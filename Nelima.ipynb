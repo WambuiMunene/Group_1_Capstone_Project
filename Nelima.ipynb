{
 "cells": [
  {
   "cell_type": "code",
   "execution_count": 1,
   "id": "0657dd19",
   "metadata": {},
   "outputs": [],
   "source": [
    "import pandas as pd\n",
    "import numpy as np\n",
    "import seaborn as sns\n",
    "import matplotlib.pyplot as plt\n"
   ]
  },
  {
   "cell_type": "code",
   "execution_count": 2,
   "id": "1cc6086d",
   "metadata": {},
   "outputs": [
    {
     "data": {
      "text/html": [
       "<div>\n",
       "<style scoped>\n",
       "    .dataframe tbody tr th:only-of-type {\n",
       "        vertical-align: middle;\n",
       "    }\n",
       "\n",
       "    .dataframe tbody tr th {\n",
       "        vertical-align: top;\n",
       "    }\n",
       "\n",
       "    .dataframe thead th {\n",
       "        text-align: right;\n",
       "    }\n",
       "</style>\n",
       "<table border=\"1\" class=\"dataframe\">\n",
       "  <thead>\n",
       "    <tr style=\"text-align: right;\">\n",
       "      <th></th>\n",
       "      <th>rating</th>\n",
       "      <th>title_x</th>\n",
       "      <th>text</th>\n",
       "      <th>asin</th>\n",
       "      <th>parent_asin</th>\n",
       "      <th>timestamp</th>\n",
       "      <th>verified_purchase</th>\n",
       "      <th>main_category</th>\n",
       "      <th>title_y</th>\n",
       "      <th>average_rating</th>\n",
       "      <th>rating_number</th>\n",
       "      <th>description</th>\n",
       "      <th>price</th>\n",
       "      <th>categories</th>\n",
       "    </tr>\n",
       "  </thead>\n",
       "  <tbody>\n",
       "    <tr>\n",
       "      <th>0</th>\n",
       "      <td>5</td>\n",
       "      <td>Five Stars</td>\n",
       "      <td>Amazon, please buy the show! I'm hooked!</td>\n",
       "      <td>B013488XFS</td>\n",
       "      <td>B013488XFS</td>\n",
       "      <td>2015-08-24 03:07:17.000</td>\n",
       "      <td>True</td>\n",
       "      <td>Prime Video</td>\n",
       "      <td>Sneaky Pete</td>\n",
       "      <td>4.6</td>\n",
       "      <td>56658.0</td>\n",
       "      <td>['A\\xa0con man (Giovanni Ribisi) on the run fr...</td>\n",
       "      <td>NaN</td>\n",
       "      <td>Suspense</td>\n",
       "    </tr>\n",
       "    <tr>\n",
       "      <th>1</th>\n",
       "      <td>5</td>\n",
       "      <td>Five Stars</td>\n",
       "      <td>My Kiddos LOVE this show!!</td>\n",
       "      <td>B00CB6VTDS</td>\n",
       "      <td>B00CB6VTDS</td>\n",
       "      <td>2016-04-19 21:16:50.000</td>\n",
       "      <td>True</td>\n",
       "      <td>Prime Video</td>\n",
       "      <td>Creative Galaxy</td>\n",
       "      <td>4.8</td>\n",
       "      <td>6403.0</td>\n",
       "      <td>['Follow the adventures of Arty and his sideki...</td>\n",
       "      <td>NaN</td>\n",
       "      <td>Kids</td>\n",
       "    </tr>\n",
       "    <tr>\n",
       "      <th>2</th>\n",
       "      <td>5</td>\n",
       "      <td>What Love Is...</td>\n",
       "      <td>...isn't always how you expect it to be, but w...</td>\n",
       "      <td>B001H1SVZC</td>\n",
       "      <td>B001H1SVZC</td>\n",
       "      <td>2020-05-28 04:13:47.074</td>\n",
       "      <td>True</td>\n",
       "      <td>Prime Video</td>\n",
       "      <td>NaN</td>\n",
       "      <td>4.5</td>\n",
       "      <td>389.0</td>\n",
       "      <td>NaN</td>\n",
       "      <td>NaN</td>\n",
       "      <td>NaN</td>\n",
       "    </tr>\n",
       "    <tr>\n",
       "      <th>3</th>\n",
       "      <td>5</td>\n",
       "      <td>QUIRKY TURNS TO HEARTSTRINGS</td>\n",
       "      <td>As you learn about the very unique characters ...</td>\n",
       "      <td>B06WVW16WY</td>\n",
       "      <td>B06WVW16WY</td>\n",
       "      <td>2020-04-16 01:15:47.540</td>\n",
       "      <td>True</td>\n",
       "      <td>Prime Video</td>\n",
       "      <td>NaN</td>\n",
       "      <td>4.8</td>\n",
       "      <td>1966.0</td>\n",
       "      <td>NaN</td>\n",
       "      <td>NaN</td>\n",
       "      <td>NaN</td>\n",
       "    </tr>\n",
       "    <tr>\n",
       "      <th>4</th>\n",
       "      <td>5</td>\n",
       "      <td>Way better than the harsh reviews.</td>\n",
       "      <td>Our family loved the film. We have kids and th...</td>\n",
       "      <td>B07RXM26FG</td>\n",
       "      <td>B07RXM26FG</td>\n",
       "      <td>2019-09-29 05:17:12.700</td>\n",
       "      <td>True</td>\n",
       "      <td>Prime Video</td>\n",
       "      <td>NaN</td>\n",
       "      <td>4.5</td>\n",
       "      <td>57962.0</td>\n",
       "      <td>NaN</td>\n",
       "      <td>NaN</td>\n",
       "      <td>NaN</td>\n",
       "    </tr>\n",
       "  </tbody>\n",
       "</table>\n",
       "</div>"
      ],
      "text/plain": [
       "   rating                             title_x  \\\n",
       "0       5                          Five Stars   \n",
       "1       5                          Five Stars   \n",
       "2       5                     What Love Is...   \n",
       "3       5        QUIRKY TURNS TO HEARTSTRINGS   \n",
       "4       5  Way better than the harsh reviews.   \n",
       "\n",
       "                                                text        asin parent_asin  \\\n",
       "0           Amazon, please buy the show! I'm hooked!  B013488XFS  B013488XFS   \n",
       "1                         My Kiddos LOVE this show!!  B00CB6VTDS  B00CB6VTDS   \n",
       "2  ...isn't always how you expect it to be, but w...  B001H1SVZC  B001H1SVZC   \n",
       "3  As you learn about the very unique characters ...  B06WVW16WY  B06WVW16WY   \n",
       "4  Our family loved the film. We have kids and th...  B07RXM26FG  B07RXM26FG   \n",
       "\n",
       "                 timestamp  verified_purchase main_category          title_y  \\\n",
       "0  2015-08-24 03:07:17.000               True   Prime Video      Sneaky Pete   \n",
       "1  2016-04-19 21:16:50.000               True   Prime Video  Creative Galaxy   \n",
       "2  2020-05-28 04:13:47.074               True   Prime Video              NaN   \n",
       "3  2020-04-16 01:15:47.540               True   Prime Video              NaN   \n",
       "4  2019-09-29 05:17:12.700               True   Prime Video              NaN   \n",
       "\n",
       "   average_rating  rating_number  \\\n",
       "0             4.6        56658.0   \n",
       "1             4.8         6403.0   \n",
       "2             4.5          389.0   \n",
       "3             4.8         1966.0   \n",
       "4             4.5        57962.0   \n",
       "\n",
       "                                         description  price categories  \n",
       "0  ['A\\xa0con man (Giovanni Ribisi) on the run fr...    NaN   Suspense  \n",
       "1  ['Follow the adventures of Arty and his sideki...    NaN       Kids  \n",
       "2                                                NaN    NaN        NaN  \n",
       "3                                                NaN    NaN        NaN  \n",
       "4                                                NaN    NaN        NaN  "
      ]
     },
     "execution_count": 2,
     "metadata": {},
     "output_type": "execute_result"
    }
   ],
   "source": [
    "movierat = pd.read_csv('prime_videos.csv')\n",
    "movierat.head()"
   ]
  },
  {
   "cell_type": "code",
   "execution_count": 3,
   "id": "be35e0dd",
   "metadata": {},
   "outputs": [
    {
     "name": "stdout",
     "output_type": "stream",
     "text": [
      "<class 'pandas.core.frame.DataFrame'>\n",
      "RangeIndex: 233610 entries, 0 to 233609\n",
      "Data columns (total 14 columns):\n",
      " #   Column             Non-Null Count   Dtype  \n",
      "---  ------             --------------   -----  \n",
      " 0   rating             233610 non-null  int64  \n",
      " 1   title_x            233586 non-null  object \n",
      " 2   text               233579 non-null  object \n",
      " 3   asin               233610 non-null  object \n",
      " 4   parent_asin        233610 non-null  object \n",
      " 5   timestamp          233610 non-null  object \n",
      " 6   verified_purchase  233610 non-null  bool   \n",
      " 7   main_category      233610 non-null  object \n",
      " 8   title_y            33800 non-null   object \n",
      " 9   average_rating     233607 non-null  float64\n",
      " 10  rating_number      233607 non-null  float64\n",
      " 11  description        33800 non-null   object \n",
      " 12  price              24165 non-null   float64\n",
      " 13  categories         33800 non-null   object \n",
      "dtypes: bool(1), float64(3), int64(1), object(9)\n",
      "memory usage: 23.4+ MB\n"
     ]
    }
   ],
   "source": [
    "movierat.info()"
   ]
  },
  {
   "cell_type": "code",
   "execution_count": 4,
   "id": "5e8f2670",
   "metadata": {},
   "outputs": [
    {
     "data": {
      "text/html": [
       "<div>\n",
       "<style scoped>\n",
       "    .dataframe tbody tr th:only-of-type {\n",
       "        vertical-align: middle;\n",
       "    }\n",
       "\n",
       "    .dataframe tbody tr th {\n",
       "        vertical-align: top;\n",
       "    }\n",
       "\n",
       "    .dataframe thead th {\n",
       "        text-align: right;\n",
       "    }\n",
       "</style>\n",
       "<table border=\"1\" class=\"dataframe\">\n",
       "  <thead>\n",
       "    <tr style=\"text-align: right;\">\n",
       "      <th></th>\n",
       "      <th>rating</th>\n",
       "      <th>average_rating</th>\n",
       "      <th>rating_number</th>\n",
       "      <th>price</th>\n",
       "    </tr>\n",
       "  </thead>\n",
       "  <tbody>\n",
       "    <tr>\n",
       "      <th>count</th>\n",
       "      <td>233610.000000</td>\n",
       "      <td>233607.000000</td>\n",
       "      <td>233607.000000</td>\n",
       "      <td>24165.000000</td>\n",
       "    </tr>\n",
       "    <tr>\n",
       "      <th>mean</th>\n",
       "      <td>4.110111</td>\n",
       "      <td>4.437982</td>\n",
       "      <td>13781.706195</td>\n",
       "      <td>14.570061</td>\n",
       "    </tr>\n",
       "    <tr>\n",
       "      <th>std</th>\n",
       "      <td>1.287133</td>\n",
       "      <td>0.455424</td>\n",
       "      <td>22317.671491</td>\n",
       "      <td>7.190882</td>\n",
       "    </tr>\n",
       "    <tr>\n",
       "      <th>min</th>\n",
       "      <td>1.000000</td>\n",
       "      <td>1.000000</td>\n",
       "      <td>2.000000</td>\n",
       "      <td>0.000000</td>\n",
       "    </tr>\n",
       "    <tr>\n",
       "      <th>25%</th>\n",
       "      <td>4.000000</td>\n",
       "      <td>4.300000</td>\n",
       "      <td>752.000000</td>\n",
       "      <td>9.990000</td>\n",
       "    </tr>\n",
       "    <tr>\n",
       "      <th>50%</th>\n",
       "      <td>5.000000</td>\n",
       "      <td>4.600000</td>\n",
       "      <td>4375.000000</td>\n",
       "      <td>14.690000</td>\n",
       "    </tr>\n",
       "    <tr>\n",
       "      <th>75%</th>\n",
       "      <td>5.000000</td>\n",
       "      <td>4.700000</td>\n",
       "      <td>18000.000000</td>\n",
       "      <td>16.790000</td>\n",
       "    </tr>\n",
       "    <tr>\n",
       "      <th>max</th>\n",
       "      <td>5.000000</td>\n",
       "      <td>5.000000</td>\n",
       "      <td>241924.000000</td>\n",
       "      <td>124.990000</td>\n",
       "    </tr>\n",
       "  </tbody>\n",
       "</table>\n",
       "</div>"
      ],
      "text/plain": [
       "              rating  average_rating  rating_number         price\n",
       "count  233610.000000   233607.000000  233607.000000  24165.000000\n",
       "mean        4.110111        4.437982   13781.706195     14.570061\n",
       "std         1.287133        0.455424   22317.671491      7.190882\n",
       "min         1.000000        1.000000       2.000000      0.000000\n",
       "25%         4.000000        4.300000     752.000000      9.990000\n",
       "50%         5.000000        4.600000    4375.000000     14.690000\n",
       "75%         5.000000        4.700000   18000.000000     16.790000\n",
       "max         5.000000        5.000000  241924.000000    124.990000"
      ]
     },
     "execution_count": 4,
     "metadata": {},
     "output_type": "execute_result"
    }
   ],
   "source": [
    "movierat.describe()"
   ]
  },
  {
   "cell_type": "code",
   "execution_count": 5,
   "id": "3bfda80c",
   "metadata": {},
   "outputs": [
    {
     "data": {
      "text/plain": [
       "(233610, 14)"
      ]
     },
     "execution_count": 5,
     "metadata": {},
     "output_type": "execute_result"
    }
   ],
   "source": [
    "movierat.shape\n"
   ]
  },
  {
   "cell_type": "code",
   "execution_count": 6,
   "id": "e44e9cd3",
   "metadata": {},
   "outputs": [
    {
     "data": {
      "text/plain": [
       "rating                    0\n",
       "title_x                  24\n",
       "text                     31\n",
       "asin                      0\n",
       "parent_asin               0\n",
       "timestamp                 0\n",
       "verified_purchase         0\n",
       "main_category             0\n",
       "title_y              199810\n",
       "average_rating            3\n",
       "rating_number             3\n",
       "description          199810\n",
       "price                209445\n",
       "categories           199810\n",
       "dtype: int64"
      ]
     },
     "execution_count": 6,
     "metadata": {},
     "output_type": "execute_result"
    }
   ],
   "source": [
    "movierat.isnull().sum()"
   ]
  },
  {
   "cell_type": "code",
   "execution_count": 7,
   "id": "1abca6da",
   "metadata": {},
   "outputs": [
    {
     "data": {
      "text/plain": [
       "rating                    5\n",
       "title_x              128590\n",
       "text                 203164\n",
       "asin                  60212\n",
       "parent_asin           60212\n",
       "timestamp            232499\n",
       "verified_purchase         2\n",
       "main_category             1\n",
       "title_y                7847\n",
       "average_rating           40\n",
       "rating_number         11383\n",
       "description            8367\n",
       "price                   217\n",
       "categories               29\n",
       "dtype: int64"
      ]
     },
     "execution_count": 7,
     "metadata": {},
     "output_type": "execute_result"
    }
   ],
   "source": [
    "# Check unique values in categorical columns\n",
    "movierat.nunique()\n"
   ]
  },
  {
   "cell_type": "code",
   "execution_count": 8,
   "id": "176654a1",
   "metadata": {},
   "outputs": [
    {
     "data": {
      "text/plain": [
       "538"
      ]
     },
     "execution_count": 8,
     "metadata": {},
     "output_type": "execute_result"
    }
   ],
   "source": [
    "# Find duplicate rows\n",
    "movierat.duplicated().sum()\n"
   ]
  },
  {
   "cell_type": "code",
   "execution_count": 9,
   "id": "9ecb29b1",
   "metadata": {},
   "outputs": [
    {
     "name": "stdout",
     "output_type": "stream",
     "text": [
      "title_x:\n",
      " title_x\n",
      "Five Stars                                                   31814\n",
      "Four Stars                                                    9983\n",
      "Three Stars                                                   4890\n",
      "One Star                                                      2543\n",
      "Two Stars                                                     2284\n",
      "                                                             ...  \n",
      "Escape from this movie                                           1\n",
      "Loved the books and they've done a great job adapting ...        1\n",
      "Glad there's going to be a season 3                              1\n",
      "Loved it. Hope there's a second season                           1\n",
      "Pretty Good!!!                                                   1\n",
      "Name: count, Length: 128590, dtype: int64 \n",
      "\n",
      "text:\n",
      " text\n",
      "Great movie                                                                                                                                                                                                                                                                                                                                                                                                                           1109\n",
      "Good movie                                                                                                                                                                                                                                                                                                                                                                                                                             845\n",
      "Good                                                                                                                                                                                                                                                                                                                                                                                                                                   801\n",
      "Great                                                                                                                                                                                                                                                                                                                                                                                                                                  697\n",
      "Great movie!                                                                                                                                                                                                                                                                                                                                                                                                                           400\n",
      "                                                                                                                                                                                                                                                                                                                                                                                                                                      ... \n",
      "The damaged past...is now addressing the mother's cancer. Good movie                                                                                                                                                                                                                                                                                                                                                                     1\n",
      "I like the real story.                                                                                                                                                                                                                                                                                                                                                                                                                   1\n",
      "It's a wonderful movie to see how two stories come together with deaf situations.                                                                                                                                                                                                                                                                                                                                                        1\n",
      "Slow burn movie...                                                                                                                                                                                                                                                                                                                                                                                                                       1\n",
      "This movie was a lot better than I had expected. Meryl Streep was a great choice for the role of Julia Child, as was Amy Adams as Julie Powell. In the 1950's, Julia begins to master the art of French cooking, and tries to get a cook-book published. In the year 2002, Julie Powell takes Julia's cook-book and begins to cook meals each day for a year, and writes about it in her blog. I highly recommend JULIE & JULIA!!!       1\n",
      "Name: count, Length: 203164, dtype: int64 \n",
      "\n",
      "asin:\n",
      " asin\n",
      "B01LWY8995    4151\n",
      "B013497N1C    1545\n",
      "B07S3XSZ94    1072\n",
      "B01J4SRJFW    1034\n",
      "B00I3MQNWG     983\n",
      "              ... \n",
      "B01ENHU172       1\n",
      "B009BUS926       1\n",
      "B003HJI314       1\n",
      "B01N6O91I5       1\n",
      "B00EAZL6HC       1\n",
      "Name: count, Length: 60212, dtype: int64 \n",
      "\n",
      "parent_asin:\n",
      " parent_asin\n",
      "B01LWY8995    4151\n",
      "B013497N1C    1545\n",
      "B07S3XSZ94    1072\n",
      "B01J4SRJFW    1034\n",
      "B00I3MQNWG     983\n",
      "              ... \n",
      "B01ENHU172       1\n",
      "B009BUS926       1\n",
      "B003HJI314       1\n",
      "B01N6O91I5       1\n",
      "B00EAZL6HC       1\n",
      "Name: count, Length: 60212, dtype: int64 \n",
      "\n",
      "timestamp:\n",
      " timestamp\n",
      "2017-02-09 18:30:32.000    4\n",
      "2016-02-28 02:08:06.000    3\n",
      "2016-07-14 20:16:27.000    3\n",
      "2017-02-09 18:29:50.000    3\n",
      "2017-02-09 19:13:08.000    3\n",
      "                          ..\n",
      "2016-04-01 17:59:34.000    1\n",
      "2016-01-25 18:28:15.000    1\n",
      "2015-10-22 17:11:24.000    1\n",
      "2015-09-03 17:05:21.000    1\n",
      "2009-12-31 01:25:26.000    1\n",
      "Name: count, Length: 232499, dtype: int64 \n",
      "\n",
      "main_category:\n",
      " main_category\n",
      "Prime Video    233610\n",
      "Name: count, dtype: int64 \n",
      "\n",
      "title_y:\n",
      " title_y\n",
      "Sneaky Pete                                          381\n",
      "The Age Of Adaline                                   379\n",
      "The Tomorrow War                                     377\n",
      "The Man in the High Castle                           312\n",
      "Aladdin                                              290\n",
      "                                                    ... \n",
      "Barbie and the Three Musketeers                        1\n",
      "SEAL Team                                              1\n",
      "Barbie & Her Sisters in the Great Puppy Adventure      1\n",
      "Captain Caveman and the Teen Angels                    1\n",
      "The Female Bunch                                       1\n",
      "Name: count, Length: 7847, dtype: int64 \n",
      "\n",
      "description:\n",
      " description\n",
      "['Blake Lively and Harrison Ford star in this stirring romantic drama about a 29-year-old woman who has stopped aging - and the timeless power of love.']                                                                                                                                                                                                                                                                   379\n",
      "['Time travelers arrive from 2051 to deliver an urgent message: 30 years in the future mankind is losing a war against a deadly alien species. The only hope for survival is for soldiers and civilians to be transported to the future and join the fight. Determined to save the world for his daughter, Dan Forester teams up with a brilliant scientist and his estranged father to rewrite the planet’s fate.']        377\n",
      "['A\\xa0con man (Giovanni Ribisi) on the run from a vicious gangster (Bryan Cranston) takes cover from his past by assuming the identity of his prison cellmate, Pete, \"reuniting\" with Pete\\'s estranged family, a colorful, dysfunctional group that threatens to drag him into a world just as dangerous as the one he\\'s trying to escape - and, just maybe, give him a taste of the loving family he\\'s never had.']    376\n",
      "['From Disney comes the thrilling and vibrant live-action adaptation of the animated classic Aladdin, the exciting tale of the charming street rat Aladdin, the courageous, self-determined Princess Jasmine and the Genie who may be the key to their future.']                                                                                                                                                            289\n",
      "['Once a powerful lawyer, Billy McBride is now burned out and washed up, spending more time in a bar than a courtroom. When he reluctantly agrees to pursue a wrongful death lawsuit against the biggest client of the massive law firm he helped create, Billy and his ragtag team uncover a vast and deadly conspiracy, pitting them all in a life or death trial against the ultimate Goliath.']                         249\n",
      "                                                                                                                                                                                                                                                                                                                                                                                                                           ... \n",
      "['FEAR THE WALKING DEAD, the new companion series to THE WALKING DEAD, goes back to the beginning of the zombie apocalypse in Los Angeles, to a time when life as everyone knew it was upended for reasons unknown.']                                                                                                                                                                                                         1\n",
      "['Season 1 of this comedy series follows the experiences of three 30-something gay friends living in San Francisco.']                                                                                                                                                                                                                                                                                                         1\n",
      "['The Lost City of Z tells the incredible true story of British explorer Percy Fawcett, who journeys into the Amazon at the dawn of the 20th century and discovers evidence of a previously unknown, advanced civilization that may have once inhabited the region.']                                                                                                                                                         1\n",
      "['From the creative minds of Disney/Pixar come nine highly entertaining Tall Tales involving bullfights, drag races, rock concerts, monster truck showdowns and even UFOs.']                                                                                                                                                                                                                                                  1\n",
      "[\"Sandy is saved from a suicide attempt by her go-go dancer friend, Libby, who suggests that they meet up with an all-female gang. The gang lives out at a ranch owned by Sharon, a wealthy drug addict, and managed by Monti, a former stuntman who pines after the gang's leader, Grace. When a pair of bikers get involved with the gang, it leads to romance and murder.\"]                                                1\n",
      "Name: count, Length: 8367, dtype: int64 \n",
      "\n",
      "categories:\n",
      " categories\n",
      "Suspense                     7518\n",
      "Comedy                       7508\n",
      "Drama                        7075\n",
      "Science Fiction              3945\n",
      "Documentary                  1604\n",
      "Fantasy                       802\n",
      "Action                        785\n",
      "Unscripted                    753\n",
      "Historical                    567\n",
      "Kids                          474\n",
      "Animation                     411\n",
      "Horror                        379\n",
      "Adventure                     325\n",
      "Special Interest              322\n",
      "International                 218\n",
      "Young Adult Audience          203\n",
      "[                             171\n",
      "Romance                       141\n",
      "Western                       132\n",
      "Sports                         96\n",
      "Arts                           86\n",
      "Faith and Spirituality         64\n",
      "LGBTQ                          54\n",
      "Music Videos and Concerts      40\n",
      "Military and War               38\n",
      "Arthouse                       31\n",
      "Fitness                        30\n",
      "Anime                          20\n",
      "Talk Show and Variety           8\n",
      "Name: count, dtype: int64 \n",
      "\n"
     ]
    }
   ],
   "source": [
    "# Check distribution of categorical columns\n",
    "for col in movierat.select_dtypes(include=['object']).columns:\n",
    "    print(f\"{col}:\\n\", movierat[col].value_counts(), \"\\n\")\n"
   ]
  },
  {
   "cell_type": "code",
   "execution_count": 10,
   "id": "cc9ec2ed",
   "metadata": {},
   "outputs": [
    {
     "data": {
      "image/png": "[encoded data removed]",
      "text/plain": [
       "<Figure size 1000x600 with 2 Axes>"
      ]
     },
     "metadata": {},
     "output_type": "display_data"
    }
   ],
   "source": [
    "\n",
    "# Select only numeric columns\n",
    "numeric_movierat = movierat.select_dtypes(include=['number'])\n",
    "\n",
    "# Compute and plot the correlation matrix\n",
    "plt.figure(figsize=(10, 6))\n",
    "sns.heatmap(numeric_movierat.corr(), annot=True, cmap='coolwarm', fmt=\".2f\")\n",
    "plt.show()\n",
    "\n"
   ]
  },
  {
   "cell_type": "code",
   "execution_count": 11,
   "id": "2a70df8f",
   "metadata": {},
   "outputs": [],
   "source": [
    "movierat.dropna(inplace=True)\n"
   ]
  },
  {
   "cell_type": "code",
   "execution_count": 12,
   "id": "14fd5dd4",
   "metadata": {},
   "outputs": [
    {
     "data": {
      "text/plain": [
       "rating               0\n",
       "title_x              0\n",
       "text                 0\n",
       "asin                 0\n",
       "parent_asin          0\n",
       "timestamp            0\n",
       "verified_purchase    0\n",
       "main_category        0\n",
       "title_y              0\n",
       "average_rating       0\n",
       "rating_number        0\n",
       "description          0\n",
       "price                0\n",
       "categories           0\n",
       "dtype: int64"
      ]
     },
     "execution_count": 12,
     "metadata": {},
     "output_type": "execute_result"
    }
   ],
   "source": [
    "movierat = movierat.isnull().sum()\n",
    "movierat"
   ]
  },
  {
   "cell_type": "code",
   "execution_count": 13,
   "id": "6a164d16",
   "metadata": {},
   "outputs": [
    {
     "data": {
      "text/plain": [
       "13"
      ]
     },
     "execution_count": 13,
     "metadata": {},
     "output_type": "execute_result"
    }
   ],
   "source": [
    "movierat.duplicated().sum()"
   ]
  },
  {
   "cell_type": "code",
   "execution_count": 14,
   "id": "3ec168cc",
   "metadata": {},
   "outputs": [],
   "source": [
    "movierat.drop_duplicates(inplace=True)\n"
   ]
  },
  {
   "cell_type": "code",
   "execution_count": 15,
   "id": "47e3b077",
   "metadata": {},
   "outputs": [
    {
     "data": {
      "text/plain": [
       "0"
      ]
     },
     "execution_count": 15,
     "metadata": {},
     "output_type": "execute_result"
    }
   ],
   "source": [
    "movierat.duplicated().sum()"
   ]
  }
 ],
 "metadata": {
  "kernelspec": {
   "display_name": "base",
   "language": "python",
   "name": "python3"
  },
  "language_info": {
   "codemirror_mode": {
    "name": "ipython",
    "version": 3
   },
   "file_extension": ".py",
   "mimetype": "text/x-python",
   "name": "python",
   "nbconvert_exporter": "python",
   "pygments_lexer": "ipython3",
   "version": "3.12.3"
  }
 },
 "nbformat": 4,
 "nbformat_minor": 5
}
