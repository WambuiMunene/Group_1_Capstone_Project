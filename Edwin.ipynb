{
 "cells": [
  {
   "cell_type": "code",
   "execution_count": 4,
   "id": "8d2e7fce",
   "metadata": {},
   "outputs": [],
   "source": [
    "import pandas as pd\n",
    "import numpy as np\n",
    "import matplotlib.pyplot as plt\n",
    "import seaborn as sns\n"
   ]
  },
  {
   "cell_type": "code",
   "execution_count": 2,
   "id": "7ac0f15b",
   "metadata": {},
   "outputs": [],
   "source": [
    "df = pd.read_csv('D:\\DS_Moringa School\\Phase_5_Capstone_Project\\Group_1_Capstone_Project\\prime_videos.csv')"
   ]
  },
  {
   "cell_type": "code",
   "execution_count": 3,
   "id": "dfa5beb9",
   "metadata": {},
   "outputs": [
    {
     "data": {
      "application/vnd.microsoft.datawrangler.viewer.v0+json": {
       "columns": [
        {
         "name": "index",
         "rawType": "int64",
         "type": "integer"
        },
        {
         "name": "rating",
         "rawType": "int64",
         "type": "integer"
        },
        {
         "name": "title_x",
         "rawType": "object",
         "type": "string"
        },
        {
         "name": "text",
         "rawType": "object",
         "type": "string"
        },
        {
         "name": "asin",
         "rawType": "object",
         "type": "string"
        },
        {
         "name": "parent_asin",
         "rawType": "object",
         "type": "string"
        },
        {
         "name": "timestamp",
         "rawType": "object",
         "type": "string"
        },
        {
         "name": "verified_purchase",
         "rawType": "bool",
         "type": "boolean"
        },
        {
         "name": "main_category",
         "rawType": "object",
         "type": "string"
        },
        {
         "name": "title_y",
         "rawType": "object",
         "type": "unknown"
        },
        {
         "name": "average_rating",
         "rawType": "float64",
         "type": "float"
        },
        {
         "name": "rating_number",
         "rawType": "float64",
         "type": "float"
        },
        {
         "name": "description",
         "rawType": "object",
         "type": "unknown"
        },
        {
         "name": "price",
         "rawType": "float64",
         "type": "float"
        },
        {
         "name": "categories",
         "rawType": "object",
         "type": "unknown"
        }
       ],
       "conversionMethod": "pd.DataFrame",
       "ref": "ed43834f-9274-46f3-82f0-ab18e168bb1a",
       "rows": [
        [
         "0",
         "5",
         "Five Stars",
         "Amazon, please buy the show! I'm hooked!",
         "B013488XFS",
         "B013488XFS",
         "2015-08-24 03:07:17.000",
         "True",
         "Prime Video",
         "Sneaky Pete",
         "4.6",
         "56658.0",
         "['A\\xa0con man (Giovanni Ribisi) on the run from a vicious gangster (Bryan Cranston) takes cover from his past by assuming the identity of his prison cellmate, Pete, \"reuniting\" with Pete\\'s estranged family, a colorful, dysfunctional group that threatens to drag him into a world just as dangerous as the one he\\'s trying to escape - and, just maybe, give him a taste of the loving family he\\'s never had.']",
         null,
         "Suspense"
        ],
        [
         "1",
         "5",
         "Five Stars",
         "My Kiddos LOVE this show!!",
         "B00CB6VTDS",
         "B00CB6VTDS",
         "2016-04-19 21:16:50.000",
         "True",
         "Prime Video",
         "Creative Galaxy",
         "4.8",
         "6403.0",
         "['Follow the adventures of Arty and his sidekick Epiphany, as they search the galaxy to solve creative problems with art! Whether Arty needs to create a painting for the new children’s library, a stuffed animal for his sister, or make a mask for his jungle pretend play, Arty and Epiphany come to the rescue by enlisting the help of the most creative of all – the preschool home viewer.']",
         null,
         "Kids"
        ],
        [
         "2",
         "5",
         "What Love Is...",
         "...isn't always how you expect it to be, but when its there, you know. That is what this movie is all about. Deep struggles within a broken home and a mother with an addiction and a best friend whom nobody else seems to understand but him. There's loss, there's triumph. There's a bit of magic with a psychic neighbor who makes quite an impact on the boy. This is one definitely worth your time.",
         "B001H1SVZC",
         "B001H1SVZC",
         "2020-05-28 04:13:47.074",
         "True",
         "Prime Video",
         null,
         "4.5",
         "389.0",
         null,
         null,
         null
        ],
        [
         "3",
         "5",
         "QUIRKY TURNS TO HEARTSTRINGS",
         "As you learn about the very unique characters and the values they hold dear, you notice sweet simple things in them that will make you smile. And then as the movie moves deeper, the poetic script of the movie pulls you even deeper, reminding you of memories you might have forgotten as the best movies do. In simple words this movie inspires very deep emotions and just might motivate you to do that thing you've been procrastinating on for too long. The visual play on light and color throughout this film complements its depth. MUST-SEE!!!",
         "B06WVW16WY",
         "B06WVW16WY",
         "2020-04-16 01:15:47.540",
         "True",
         "Prime Video",
         null,
         "4.8",
         "1966.0",
         null,
         null,
         null
        ],
        [
         "4",
         "5",
         "Way better than the harsh reviews.",
         "Our family loved the film. We have kids and they thought the movie was so fun.  We liked it too. The reviews were harsh. And honestly I don’t think the previews were great. It’s worth watching.",
         "B07RXM26FG",
         "B07RXM26FG",
         "2019-09-29 05:17:12.700",
         "True",
         "Prime Video",
         null,
         "4.5",
         "57962.0",
         null,
         null,
         null
        ]
       ],
       "shape": {
        "columns": 14,
        "rows": 5
       }
      },
      "text/html": [
       "<div>\n",
       "<style scoped>\n",
       "    .dataframe tbody tr th:only-of-type {\n",
       "        vertical-align: middle;\n",
       "    }\n",
       "\n",
       "    .dataframe tbody tr th {\n",
       "        vertical-align: top;\n",
       "    }\n",
       "\n",
       "    .dataframe thead th {\n",
       "        text-align: right;\n",
       "    }\n",
       "</style>\n",
       "<table border=\"1\" class=\"dataframe\">\n",
       "  <thead>\n",
       "    <tr style=\"text-align: right;\">\n",
       "      <th></th>\n",
       "      <th>rating</th>\n",
       "      <th>title_x</th>\n",
       "      <th>text</th>\n",
       "      <th>asin</th>\n",
       "      <th>parent_asin</th>\n",
       "      <th>timestamp</th>\n",
       "      <th>verified_purchase</th>\n",
       "      <th>main_category</th>\n",
       "      <th>title_y</th>\n",
       "      <th>average_rating</th>\n",
       "      <th>rating_number</th>\n",
       "      <th>description</th>\n",
       "      <th>price</th>\n",
       "      <th>categories</th>\n",
       "    </tr>\n",
       "  </thead>\n",
       "  <tbody>\n",
       "    <tr>\n",
       "      <th>0</th>\n",
       "      <td>5</td>\n",
       "      <td>Five Stars</td>\n",
       "      <td>Amazon, please buy the show! I'm hooked!</td>\n",
       "      <td>B013488XFS</td>\n",
       "      <td>B013488XFS</td>\n",
       "      <td>2015-08-24 03:07:17.000</td>\n",
       "      <td>True</td>\n",
       "      <td>Prime Video</td>\n",
       "      <td>Sneaky Pete</td>\n",
       "      <td>4.6</td>\n",
       "      <td>56658.0</td>\n",
       "      <td>['A\\xa0con man (Giovanni Ribisi) on the run fr...</td>\n",
       "      <td>NaN</td>\n",
       "      <td>Suspense</td>\n",
       "    </tr>\n",
       "    <tr>\n",
       "      <th>1</th>\n",
       "      <td>5</td>\n",
       "      <td>Five Stars</td>\n",
       "      <td>My Kiddos LOVE this show!!</td>\n",
       "      <td>B00CB6VTDS</td>\n",
       "      <td>B00CB6VTDS</td>\n",
       "      <td>2016-04-19 21:16:50.000</td>\n",
       "      <td>True</td>\n",
       "      <td>Prime Video</td>\n",
       "      <td>Creative Galaxy</td>\n",
       "      <td>4.8</td>\n",
       "      <td>6403.0</td>\n",
       "      <td>['Follow the adventures of Arty and his sideki...</td>\n",
       "      <td>NaN</td>\n",
       "      <td>Kids</td>\n",
       "    </tr>\n",
       "    <tr>\n",
       "      <th>2</th>\n",
       "      <td>5</td>\n",
       "      <td>What Love Is...</td>\n",
       "      <td>...isn't always how you expect it to be, but w...</td>\n",
       "      <td>B001H1SVZC</td>\n",
       "      <td>B001H1SVZC</td>\n",
       "      <td>2020-05-28 04:13:47.074</td>\n",
       "      <td>True</td>\n",
       "      <td>Prime Video</td>\n",
       "      <td>NaN</td>\n",
       "      <td>4.5</td>\n",
       "      <td>389.0</td>\n",
       "      <td>NaN</td>\n",
       "      <td>NaN</td>\n",
       "      <td>NaN</td>\n",
       "    </tr>\n",
       "    <tr>\n",
       "      <th>3</th>\n",
       "      <td>5</td>\n",
       "      <td>QUIRKY TURNS TO HEARTSTRINGS</td>\n",
       "      <td>As you learn about the very unique characters ...</td>\n",
       "      <td>B06WVW16WY</td>\n",
       "      <td>B06WVW16WY</td>\n",
       "      <td>2020-04-16 01:15:47.540</td>\n",
       "      <td>True</td>\n",
       "      <td>Prime Video</td>\n",
       "      <td>NaN</td>\n",
       "      <td>4.8</td>\n",
       "      <td>1966.0</td>\n",
       "      <td>NaN</td>\n",
       "      <td>NaN</td>\n",
       "      <td>NaN</td>\n",
       "    </tr>\n",
       "    <tr>\n",
       "      <th>4</th>\n",
       "      <td>5</td>\n",
       "      <td>Way better than the harsh reviews.</td>\n",
       "      <td>Our family loved the film. We have kids and th...</td>\n",
       "      <td>B07RXM26FG</td>\n",
       "      <td>B07RXM26FG</td>\n",
       "      <td>2019-09-29 05:17:12.700</td>\n",
       "      <td>True</td>\n",
       "      <td>Prime Video</td>\n",
       "      <td>NaN</td>\n",
       "      <td>4.5</td>\n",
       "      <td>57962.0</td>\n",
       "      <td>NaN</td>\n",
       "      <td>NaN</td>\n",
       "      <td>NaN</td>\n",
       "    </tr>\n",
       "  </tbody>\n",
       "</table>\n",
       "</div>"
      ],
      "text/plain": [
       "   rating                             title_x  \\\n",
       "0       5                          Five Stars   \n",
       "1       5                          Five Stars   \n",
       "2       5                     What Love Is...   \n",
       "3       5        QUIRKY TURNS TO HEARTSTRINGS   \n",
       "4       5  Way better than the harsh reviews.   \n",
       "\n",
       "                                                text        asin parent_asin  \\\n",
       "0           Amazon, please buy the show! I'm hooked!  B013488XFS  B013488XFS   \n",
       "1                         My Kiddos LOVE this show!!  B00CB6VTDS  B00CB6VTDS   \n",
       "2  ...isn't always how you expect it to be, but w...  B001H1SVZC  B001H1SVZC   \n",
       "3  As you learn about the very unique characters ...  B06WVW16WY  B06WVW16WY   \n",
       "4  Our family loved the film. We have kids and th...  B07RXM26FG  B07RXM26FG   \n",
       "\n",
       "                 timestamp  verified_purchase main_category          title_y  \\\n",
       "0  2015-08-24 03:07:17.000               True   Prime Video      Sneaky Pete   \n",
       "1  2016-04-19 21:16:50.000               True   Prime Video  Creative Galaxy   \n",
       "2  2020-05-28 04:13:47.074               True   Prime Video              NaN   \n",
       "3  2020-04-16 01:15:47.540               True   Prime Video              NaN   \n",
       "4  2019-09-29 05:17:12.700               True   Prime Video              NaN   \n",
       "\n",
       "   average_rating  rating_number  \\\n",
       "0             4.6        56658.0   \n",
       "1             4.8         6403.0   \n",
       "2             4.5          389.0   \n",
       "3             4.8         1966.0   \n",
       "4             4.5        57962.0   \n",
       "\n",
       "                                         description  price categories  \n",
       "0  ['A\\xa0con man (Giovanni Ribisi) on the run fr...    NaN   Suspense  \n",
       "1  ['Follow the adventures of Arty and his sideki...    NaN       Kids  \n",
       "2                                                NaN    NaN        NaN  \n",
       "3                                                NaN    NaN        NaN  \n",
       "4                                                NaN    NaN        NaN  "
      ]
     },
     "execution_count": 3,
     "metadata": {},
     "output_type": "execute_result"
    }
   ],
   "source": [
    "df.head()"
   ]
  },
  {
   "cell_type": "code",
   "execution_count": 6,
   "id": "5066efd0",
   "metadata": {},
   "outputs": [
    {
     "name": "stdout",
     "output_type": "stream",
     "text": [
      "<class 'pandas.core.frame.DataFrame'>\n",
      "RangeIndex: 233610 entries, 0 to 233609\n",
      "Data columns (total 14 columns):\n",
      " #   Column             Non-Null Count   Dtype  \n",
      "---  ------             --------------   -----  \n",
      " 0   rating             233610 non-null  int64  \n",
      " 1   title_x            233586 non-null  object \n",
      " 2   text               233579 non-null  object \n",
      " 3   asin               233610 non-null  object \n",
      " 4   parent_asin        233610 non-null  object \n",
      " 5   timestamp          233610 non-null  object \n",
      " 6   verified_purchase  233610 non-null  bool   \n",
      " 7   main_category      233610 non-null  object \n",
      " 8   title_y            33800 non-null   object \n",
      " 9   average_rating     233607 non-null  float64\n",
      " 10  rating_number      233607 non-null  float64\n",
      " 11  description        33800 non-null   object \n",
      " 12  price              24165 non-null   float64\n",
      " 13  categories         33800 non-null   object \n",
      "dtypes: bool(1), float64(3), int64(1), object(9)\n",
      "memory usage: 23.4+ MB\n"
     ]
    }
   ],
   "source": [
    "df.info()"
   ]
  },
  {
   "cell_type": "code",
   "execution_count": 7,
   "id": "983c2650",
   "metadata": {},
   "outputs": [
    {
     "data": {
      "application/vnd.microsoft.datawrangler.viewer.v0+json": {
       "columns": [
        {
         "name": "index",
         "rawType": "object",
         "type": "string"
        },
        {
         "name": "rating",
         "rawType": "float64",
         "type": "float"
        },
        {
         "name": "average_rating",
         "rawType": "float64",
         "type": "float"
        },
        {
         "name": "rating_number",
         "rawType": "float64",
         "type": "float"
        },
        {
         "name": "price",
         "rawType": "float64",
         "type": "float"
        }
       ],
       "conversionMethod": "pd.DataFrame",
       "ref": "01f66821-2442-4a1e-90ee-c11c79123fae",
       "rows": [
        [
         "count",
         "233610.0",
         "233607.0",
         "233607.0",
         "24165.0"
        ],
        [
         "mean",
         "4.110110868541587",
         "4.437981738560916",
         "13781.706194591772",
         "14.5700608317815"
        ],
        [
         "std",
         "1.2871328904219395",
         "0.4554241736276284",
         "22317.671490978842",
         "7.190881911759126"
        ],
        [
         "min",
         "1.0",
         "1.0",
         "2.0",
         "0.0"
        ],
        [
         "25%",
         "4.0",
         "4.3",
         "752.0",
         "9.99"
        ],
        [
         "50%",
         "5.0",
         "4.6",
         "4375.0",
         "14.69"
        ],
        [
         "75%",
         "5.0",
         "4.7",
         "18000.0",
         "16.79"
        ],
        [
         "max",
         "5.0",
         "5.0",
         "241924.0",
         "124.99"
        ]
       ],
       "shape": {
        "columns": 4,
        "rows": 8
       }
      },
      "text/html": [
       "<div>\n",
       "<style scoped>\n",
       "    .dataframe tbody tr th:only-of-type {\n",
       "        vertical-align: middle;\n",
       "    }\n",
       "\n",
       "    .dataframe tbody tr th {\n",
       "        vertical-align: top;\n",
       "    }\n",
       "\n",
       "    .dataframe thead th {\n",
       "        text-align: right;\n",
       "    }\n",
       "</style>\n",
       "<table border=\"1\" class=\"dataframe\">\n",
       "  <thead>\n",
       "    <tr style=\"text-align: right;\">\n",
       "      <th></th>\n",
       "      <th>rating</th>\n",
       "      <th>average_rating</th>\n",
       "      <th>rating_number</th>\n",
       "      <th>price</th>\n",
       "    </tr>\n",
       "  </thead>\n",
       "  <tbody>\n",
       "    <tr>\n",
       "      <th>count</th>\n",
       "      <td>233610.000000</td>\n",
       "      <td>233607.000000</td>\n",
       "      <td>233607.000000</td>\n",
       "      <td>24165.000000</td>\n",
       "    </tr>\n",
       "    <tr>\n",
       "      <th>mean</th>\n",
       "      <td>4.110111</td>\n",
       "      <td>4.437982</td>\n",
       "      <td>13781.706195</td>\n",
       "      <td>14.570061</td>\n",
       "    </tr>\n",
       "    <tr>\n",
       "      <th>std</th>\n",
       "      <td>1.287133</td>\n",
       "      <td>0.455424</td>\n",
       "      <td>22317.671491</td>\n",
       "      <td>7.190882</td>\n",
       "    </tr>\n",
       "    <tr>\n",
       "      <th>min</th>\n",
       "      <td>1.000000</td>\n",
       "      <td>1.000000</td>\n",
       "      <td>2.000000</td>\n",
       "      <td>0.000000</td>\n",
       "    </tr>\n",
       "    <tr>\n",
       "      <th>25%</th>\n",
       "      <td>4.000000</td>\n",
       "      <td>4.300000</td>\n",
       "      <td>752.000000</td>\n",
       "      <td>9.990000</td>\n",
       "    </tr>\n",
       "    <tr>\n",
       "      <th>50%</th>\n",
       "      <td>5.000000</td>\n",
       "      <td>4.600000</td>\n",
       "      <td>4375.000000</td>\n",
       "      <td>14.690000</td>\n",
       "    </tr>\n",
       "    <tr>\n",
       "      <th>75%</th>\n",
       "      <td>5.000000</td>\n",
       "      <td>4.700000</td>\n",
       "      <td>18000.000000</td>\n",
       "      <td>16.790000</td>\n",
       "    </tr>\n",
       "    <tr>\n",
       "      <th>max</th>\n",
       "      <td>5.000000</td>\n",
       "      <td>5.000000</td>\n",
       "      <td>241924.000000</td>\n",
       "      <td>124.990000</td>\n",
       "    </tr>\n",
       "  </tbody>\n",
       "</table>\n",
       "</div>"
      ],
      "text/plain": [
       "              rating  average_rating  rating_number         price\n",
       "count  233610.000000   233607.000000  233607.000000  24165.000000\n",
       "mean        4.110111        4.437982   13781.706195     14.570061\n",
       "std         1.287133        0.455424   22317.671491      7.190882\n",
       "min         1.000000        1.000000       2.000000      0.000000\n",
       "25%         4.000000        4.300000     752.000000      9.990000\n",
       "50%         5.000000        4.600000    4375.000000     14.690000\n",
       "75%         5.000000        4.700000   18000.000000     16.790000\n",
       "max         5.000000        5.000000  241924.000000    124.990000"
      ]
     },
     "execution_count": 7,
     "metadata": {},
     "output_type": "execute_result"
    }
   ],
   "source": [
    "df.describe()"
   ]
  },
  {
   "cell_type": "code",
   "execution_count": 8,
   "id": "c60690f4",
   "metadata": {},
   "outputs": [
    {
     "data": {
      "text/plain": [
       "(233610, 14)"
      ]
     },
     "execution_count": 8,
     "metadata": {},
     "output_type": "execute_result"
    }
   ],
   "source": [
    "df.shape"
   ]
  },
  {
   "cell_type": "code",
   "execution_count": 9,
   "id": "ec410153",
   "metadata": {},
   "outputs": [
    {
     "data": {
      "text/plain": [
       "rating                    0\n",
       "title_x                  24\n",
       "text                     31\n",
       "asin                      0\n",
       "parent_asin               0\n",
       "timestamp                 0\n",
       "verified_purchase         0\n",
       "main_category             0\n",
       "title_y              199810\n",
       "average_rating            3\n",
       "rating_number             3\n",
       "description          199810\n",
       "price                209445\n",
       "categories           199810\n",
       "dtype: int64"
      ]
     },
     "execution_count": 9,
     "metadata": {},
     "output_type": "execute_result"
    }
   ],
   "source": [
    "df.isnull().sum()"
   ]
  },
  {
   "cell_type": "code",
   "execution_count": null,
   "id": "71b61203",
   "metadata": {},
   "outputs": [],
   "source": []
  }
 ],
 "metadata": {
  "kernelspec": {
   "display_name": "myenv",
   "language": "python",
   "name": "python3"
  },
  "language_info": {
   "codemirror_mode": {
    "name": "ipython",
    "version": 3
   },
   "file_extension": ".py",
   "mimetype": "text/x-python",
   "name": "python",
   "nbconvert_exporter": "python",
   "pygments_lexer": "ipython3",
   "version": "3.9.21"
  }
 },
 "nbformat": 4,
 "nbformat_minor": 5
}
