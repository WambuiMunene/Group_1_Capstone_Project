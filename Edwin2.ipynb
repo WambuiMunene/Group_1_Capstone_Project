{
 "cells": [
  {
   "cell_type": "markdown",
   "id": "bcd5b683",
   "metadata": {},
   "source": [
    "# **1. Data Understanding & Exploration**"
   ]
  },
  {
   "cell_type": "code",
   "execution_count": 22,
   "id": "a40fd122",
   "metadata": {},
   "outputs": [],
   "source": [
    "# %pip install pandas numpy nltk spacy gensim beautifulsoup4 contractions wordcloud textblob vaderSentiment scikit-learn tensorflow transformers matplotlib seaborn scikit-plot\n",
    "# %pip install tf-keras"
   ]
  },
  {
   "cell_type": "markdown",
   "id": "737a7f3c",
   "metadata": {},
   "source": [
    "## *libraries*"
   ]
  },
  {
   "cell_type": "code",
   "execution_count": 8,
   "id": "80064662",
   "metadata": {},
   "outputs": [
    {
     "name": "stderr",
     "output_type": "stream",
     "text": [
      "[nltk_data] Downloading package stopwords to C:\\Users\\Edwin\n",
      "[nltk_data]     George\\AppData\\Roaming\\nltk_data...\n",
      "[nltk_data]   Package stopwords is already up-to-date!\n",
      "[nltk_data] Downloading package punkt to C:\\Users\\Edwin\n",
      "[nltk_data]     George\\AppData\\Roaming\\nltk_data...\n",
      "[nltk_data]   Package punkt is already up-to-date!\n",
      "[nltk_data] Downloading package wordnet to C:\\Users\\Edwin\n",
      "[nltk_data]     George\\AppData\\Roaming\\nltk_data...\n",
      "[nltk_data]   Package wordnet is already up-to-date!\n",
      "ERROR: Invalid requirement: '#': Expected package name at the start of dependency specifier\n",
      "    #\n",
      "    ^\n"
     ]
    }
   ],
   "source": [
    "import pandas as pd  # DataFrames, CSV handling\n",
    "import numpy as np  # Numerical operations\n",
    "import re  # Regular expressions for text cleaning\n",
    "import string  # Punctuation handling\n",
    "import nltk  # Natural Language Toolkit\n",
    "from nltk.corpus import stopwords  # Stopwords removal\n",
    "from nltk.tokenize import word_tokenize  # Tokenization\n",
    "from nltk.stem import WordNetLemmatizer, PorterStemmer  # Lemmatization & Stemming\n",
    "from bs4 import BeautifulSoup  # Removing HTML tags\n",
    "import contractions  # Expanding contractions (e.g., \"don't\" → \"do not\")\n",
    "nltk.download('stopwords')\n",
    "nltk.download('punkt')\n",
    "nltk.download('wordnet')\n",
    "from sklearn.feature_extraction.text import CountVectorizer, TfidfVectorizer  # BoW, TF-IDF\n",
    "from gensim.models import Word2Vec  # Word embeddings\n",
    "import spacy  # Advanced NLP processing\n",
    "!python -m spacy download en_core_web_sm  # Small English model\n",
    "import matplotlib.pyplot as plt  # Standard plotting\n",
    "import seaborn as sns  # Statistical data visualization\n",
    "from wordcloud import WordCloud  # Word cloud visualization\n",
    "from collections import Counter  # Word frequency analysis\n",
    "from textblob import TextBlob  # Sentiment analysis\n",
    "from vaderSentiment.vaderSentiment import SentimentIntensityAnalyzer  # VADER for short text sentiment\n",
    "from sklearn.model_selection import train_test_split  # Train-test split\n",
    "from sklearn.naive_bayes import MultinomialNB  # Naïve Bayes classifier\n",
    "from sklearn.linear_model import LogisticRegression  # Logistic Regression\n",
    "from sklearn.svm import SVC  # Support Vector Machine\n",
    "from sklearn.pipeline import Pipeline  # Building ML pipelines\n",
    "from sklearn.preprocessing import LabelEncoder  # Encoding categorical labels\n",
    "import tensorflow as tf  # Deep learning framework\n",
    "from tensorflow.keras.preprocessing.text import Tokenizer  # Text tokenization\n",
    "from tensorflow.keras.preprocessing.sequence import pad_sequences  # Sequence padding\n",
    "from tensorflow.keras.models import Sequential  # Model initialization\n",
    "from tensorflow.keras.layers import Embedding, LSTM, Dense  # Layers for RNN\n",
    "from tensorflow.keras.layers import Bidirectional, GlobalMaxPool1D, Conv1D  # Layers for CNN\n",
    "from tensorflow.keras.layers import Dropout  # Dropout layer\n",
    "# from transformers import BertTokenizer, TFBertModel  # BERT model\n",
    "from sklearn.metrics import accuracy_score, classification_report, confusion_matrix\n",
    "# import scikitplot as skplt  # Pretty confusion matrix\n",
    "import datetime  # Handling dates\n",
    "import time  # Time conversions\n",
    "import joblib  # Save & load ML models\n",
    "import pickle  # Save Python objects\n",
    "import warnings  # Ignore warnings\n",
    "warnings.filterwarnings('ignore')\n"
   ]
  },
  {
   "cell_type": "markdown",
   "id": "6260df5f",
   "metadata": {},
   "source": [
    "## **1.1 Loading and Inspecting the Dataset**"
   ]
  },
  {
   "cell_type": "code",
   "execution_count": 10,
   "id": "2540a9bf",
   "metadata": {},
   "outputs": [
    {
     "data": {
      "application/vnd.microsoft.datawrangler.viewer.v0+json": {
       "columns": [
        {
         "name": "index",
         "rawType": "int64",
         "type": "integer"
        },
        {
         "name": "rating",
         "rawType": "int64",
         "type": "integer"
        },
        {
         "name": "title_x",
         "rawType": "object",
         "type": "string"
        },
        {
         "name": "text",
         "rawType": "object",
         "type": "string"
        },
        {
         "name": "asin",
         "rawType": "object",
         "type": "string"
        },
        {
         "name": "parent_asin",
         "rawType": "object",
         "type": "string"
        },
        {
         "name": "timestamp",
         "rawType": "object",
         "type": "string"
        },
        {
         "name": "verified_purchase",
         "rawType": "bool",
         "type": "boolean"
        },
        {
         "name": "main_category",
         "rawType": "object",
         "type": "string"
        },
        {
         "name": "title_y",
         "rawType": "object",
         "type": "string"
        },
        {
         "name": "average_rating",
         "rawType": "float64",
         "type": "float"
        },
        {
         "name": "rating_number",
         "rawType": "float64",
         "type": "float"
        },
        {
         "name": "description",
         "rawType": "object",
         "type": "string"
        },
        {
         "name": "price",
         "rawType": "float64",
         "type": "float"
        },
        {
         "name": "categories",
         "rawType": "object",
         "type": "string"
        },
        {
         "name": "year",
         "rawType": "int64",
         "type": "integer"
        },
        {
         "name": "month",
         "rawType": "int64",
         "type": "integer"
        },
        {
         "name": "weekday",
         "rawType": "object",
         "type": "string"
        }
       ],
       "conversionMethod": "pd.DataFrame",
       "ref": "2019a034-f4df-4001-b30c-1e7064a12838",
       "rows": [
        [
         "0",
         "4",
         "Four Stars",
         "It was pretty good. Had some pretty comical scenes throughout. A great chick flick.",
         "B01KBKKU7G",
         "B01KBKKU7G",
         "2016-09-16 18:39:49.000",
         "True",
         "Prime Video",
         "Seven Girlfriends",
         "3.2",
         "333.0",
         "[\"Jesse  has never had a problem finding a girlfriend. It's maintaining the relationship that's his issue. When an ex-girlfriend of his dies, Jesse impulsively asks his most recent fling, Hannah, to marry him -- a proposal she quickly turns down. Left confused by the rejection and his dating history, Jesse decides to seek out his former loves for answers on why the relationships ended.\"]",
         "12.99",
         "Comedy",
         "2016",
         "9",
         "Friday"
        ],
        [
         "1",
         "3",
         "Ok love story",
         "A bit slow and an unsatisfying ending",
         "B01M0S0C8M",
         "B01M0S0C8M",
         "2016-11-08 22:14:17.000",
         "True",
         "Prime Video",
         "Still Mine",
         "4.6",
         "4744.0",
         "[\"James Cromwell gives a tour de force performance in 'Still Mine,' a deeply moving love story about a couple in their twilight years. When Craig sets out to build a more suitable house for his ailing wife Irene, he is blindsided by the bureaucratic codes and officials. As Irene becomes increasingly ill, Craig takes a final stance against all odds to finish the house, in a truly inspirational story.\"]",
         "9.99",
         "Drama",
         "2016",
         "11",
         "Tuesday"
        ],
        [
         "2",
         "1",
         "TRASH",
         "A movie based solely on INCEST. Storyline is garbage and the actors were terrible.",
         "B00G2TAAVM",
         "B00G2TAAVM",
         "2022-08-22 20:06:25.847",
         "True",
         "Prime Video",
         "How I Live Now",
         "4.3",
         "907.0",
         "['Set in the near-future UK, Saoirse Ronan plays Daisy, an American teenager sent to stay with relatives in the English countryside. Initially withdrawn and alienated, she begins to warm up to her charming surroundings and strikes up a romance with the handsome Edmund (George MacKay). But on the fringes of their idyllic summer days are tense news reports of an escalating conflict in Europe. As the UK falls into a violent, chaotic military state, Daisy finds herself hiding and fighting to survive.']",
         "12.99",
         "International",
         "2022",
         "8",
         "Monday"
        ],
        [
         "3",
         "5",
         "Five Stars",
         "Excellent!!!",
         "B018HJ03UC",
         "B018HJ03UC",
         "2016-01-25 18:47:06.000",
         "True",
         "Prime Video",
         "The Martian",
         "4.8",
         "45859.0",
         "['From legendary director Ridley Scott (Alien, Prometheus) comes a gripping tale of human strength and the will to survive, starring Matt Damon as an astronaut stranded on Mars.']",
         "4.99",
         "Science Fiction",
         "2016",
         "1",
         "Monday"
        ],
        [
         "4",
         "2",
         "Not what it used to be",
         "This used to be a favorite of mine but I just don’t enjoy it anymore. The way Zahn leads the interviewees in some of the questions is hard to watch. It feels too edited and it feels like it is dumbed down or something. She’ll ask the investigators questions that there could only be one answer to the question and they are usually questions that don’t add anything to the story line. It feels as if this series has run its course, it no longer is different enough or fresh enough to keep people intrigued.",
         "B07FLP19K1",
         "B07FLP19K1",
         "2018-12-03 16:52:02.089",
         "True",
         "Prime Video",
         "On The Case with Paula Zahn",
         "4.6",
         "141.0",
         "['On The Case with Paula Zahn takes viewers on an exciting journey inside the most fascinating crime and mystery investigations. First person accounts, along with insight from experts are featured as each case reaches its dramatic conclusion.']",
         "22.99",
         "Suspense",
         "2018",
         "12",
         "Monday"
        ]
       ],
       "shape": {
        "columns": 17,
        "rows": 5
       }
      },
      "text/html": [
       "<div>\n",
       "<style scoped>\n",
       "    .dataframe tbody tr th:only-of-type {\n",
       "        vertical-align: middle;\n",
       "    }\n",
       "\n",
       "    .dataframe tbody tr th {\n",
       "        vertical-align: top;\n",
       "    }\n",
       "\n",
       "    .dataframe thead th {\n",
       "        text-align: right;\n",
       "    }\n",
       "</style>\n",
       "<table border=\"1\" class=\"dataframe\">\n",
       "  <thead>\n",
       "    <tr style=\"text-align: right;\">\n",
       "      <th></th>\n",
       "      <th>rating</th>\n",
       "      <th>title_x</th>\n",
       "      <th>text</th>\n",
       "      <th>asin</th>\n",
       "      <th>parent_asin</th>\n",
       "      <th>timestamp</th>\n",
       "      <th>verified_purchase</th>\n",
       "      <th>main_category</th>\n",
       "      <th>title_y</th>\n",
       "      <th>average_rating</th>\n",
       "      <th>rating_number</th>\n",
       "      <th>description</th>\n",
       "      <th>price</th>\n",
       "      <th>categories</th>\n",
       "      <th>year</th>\n",
       "      <th>month</th>\n",
       "      <th>weekday</th>\n",
       "    </tr>\n",
       "  </thead>\n",
       "  <tbody>\n",
       "    <tr>\n",
       "      <th>0</th>\n",
       "      <td>4</td>\n",
       "      <td>Four Stars</td>\n",
       "      <td>It was pretty good. Had some pretty comical sc...</td>\n",
       "      <td>B01KBKKU7G</td>\n",
       "      <td>B01KBKKU7G</td>\n",
       "      <td>2016-09-16 18:39:49.000</td>\n",
       "      <td>True</td>\n",
       "      <td>Prime Video</td>\n",
       "      <td>Seven Girlfriends</td>\n",
       "      <td>3.2</td>\n",
       "      <td>333.0</td>\n",
       "      <td>[\"Jesse  has never had a problem finding a gir...</td>\n",
       "      <td>12.99</td>\n",
       "      <td>Comedy</td>\n",
       "      <td>2016</td>\n",
       "      <td>9</td>\n",
       "      <td>Friday</td>\n",
       "    </tr>\n",
       "    <tr>\n",
       "      <th>1</th>\n",
       "      <td>3</td>\n",
       "      <td>Ok love story</td>\n",
       "      <td>A bit slow and an unsatisfying ending</td>\n",
       "      <td>B01M0S0C8M</td>\n",
       "      <td>B01M0S0C8M</td>\n",
       "      <td>2016-11-08 22:14:17.000</td>\n",
       "      <td>True</td>\n",
       "      <td>Prime Video</td>\n",
       "      <td>Still Mine</td>\n",
       "      <td>4.6</td>\n",
       "      <td>4744.0</td>\n",
       "      <td>[\"James Cromwell gives a tour de force perform...</td>\n",
       "      <td>9.99</td>\n",
       "      <td>Drama</td>\n",
       "      <td>2016</td>\n",
       "      <td>11</td>\n",
       "      <td>Tuesday</td>\n",
       "    </tr>\n",
       "    <tr>\n",
       "      <th>2</th>\n",
       "      <td>1</td>\n",
       "      <td>TRASH</td>\n",
       "      <td>A movie based solely on INCEST. Storyline is g...</td>\n",
       "      <td>B00G2TAAVM</td>\n",
       "      <td>B00G2TAAVM</td>\n",
       "      <td>2022-08-22 20:06:25.847</td>\n",
       "      <td>True</td>\n",
       "      <td>Prime Video</td>\n",
       "      <td>How I Live Now</td>\n",
       "      <td>4.3</td>\n",
       "      <td>907.0</td>\n",
       "      <td>['Set in the near-future UK, Saoirse Ronan pla...</td>\n",
       "      <td>12.99</td>\n",
       "      <td>International</td>\n",
       "      <td>2022</td>\n",
       "      <td>8</td>\n",
       "      <td>Monday</td>\n",
       "    </tr>\n",
       "    <tr>\n",
       "      <th>3</th>\n",
       "      <td>5</td>\n",
       "      <td>Five Stars</td>\n",
       "      <td>Excellent!!!</td>\n",
       "      <td>B018HJ03UC</td>\n",
       "      <td>B018HJ03UC</td>\n",
       "      <td>2016-01-25 18:47:06.000</td>\n",
       "      <td>True</td>\n",
       "      <td>Prime Video</td>\n",
       "      <td>The Martian</td>\n",
       "      <td>4.8</td>\n",
       "      <td>45859.0</td>\n",
       "      <td>['From legendary director Ridley Scott (Alien,...</td>\n",
       "      <td>4.99</td>\n",
       "      <td>Science Fiction</td>\n",
       "      <td>2016</td>\n",
       "      <td>1</td>\n",
       "      <td>Monday</td>\n",
       "    </tr>\n",
       "    <tr>\n",
       "      <th>4</th>\n",
       "      <td>2</td>\n",
       "      <td>Not what it used to be</td>\n",
       "      <td>This used to be a favorite of mine but I just ...</td>\n",
       "      <td>B07FLP19K1</td>\n",
       "      <td>B07FLP19K1</td>\n",
       "      <td>2018-12-03 16:52:02.089</td>\n",
       "      <td>True</td>\n",
       "      <td>Prime Video</td>\n",
       "      <td>On The Case with Paula Zahn</td>\n",
       "      <td>4.6</td>\n",
       "      <td>141.0</td>\n",
       "      <td>['On The Case with Paula Zahn takes viewers on...</td>\n",
       "      <td>22.99</td>\n",
       "      <td>Suspense</td>\n",
       "      <td>2018</td>\n",
       "      <td>12</td>\n",
       "      <td>Monday</td>\n",
       "    </tr>\n",
       "  </tbody>\n",
       "</table>\n",
       "</div>"
      ],
      "text/plain": [
       "   rating                 title_x  \\\n",
       "0       4              Four Stars   \n",
       "1       3           Ok love story   \n",
       "2       1                   TRASH   \n",
       "3       5              Five Stars   \n",
       "4       2  Not what it used to be   \n",
       "\n",
       "                                                text        asin parent_asin  \\\n",
       "0  It was pretty good. Had some pretty comical sc...  B01KBKKU7G  B01KBKKU7G   \n",
       "1              A bit slow and an unsatisfying ending  B01M0S0C8M  B01M0S0C8M   \n",
       "2  A movie based solely on INCEST. Storyline is g...  B00G2TAAVM  B00G2TAAVM   \n",
       "3                                       Excellent!!!  B018HJ03UC  B018HJ03UC   \n",
       "4  This used to be a favorite of mine but I just ...  B07FLP19K1  B07FLP19K1   \n",
       "\n",
       "                 timestamp  verified_purchase main_category  \\\n",
       "0  2016-09-16 18:39:49.000               True   Prime Video   \n",
       "1  2016-11-08 22:14:17.000               True   Prime Video   \n",
       "2  2022-08-22 20:06:25.847               True   Prime Video   \n",
       "3  2016-01-25 18:47:06.000               True   Prime Video   \n",
       "4  2018-12-03 16:52:02.089               True   Prime Video   \n",
       "\n",
       "                       title_y  average_rating  rating_number  \\\n",
       "0            Seven Girlfriends             3.2          333.0   \n",
       "1                   Still Mine             4.6         4744.0   \n",
       "2               How I Live Now             4.3          907.0   \n",
       "3                  The Martian             4.8        45859.0   \n",
       "4  On The Case with Paula Zahn             4.6          141.0   \n",
       "\n",
       "                                         description  price       categories  \\\n",
       "0  [\"Jesse  has never had a problem finding a gir...  12.99           Comedy   \n",
       "1  [\"James Cromwell gives a tour de force perform...   9.99            Drama   \n",
       "2  ['Set in the near-future UK, Saoirse Ronan pla...  12.99    International   \n",
       "3  ['From legendary director Ridley Scott (Alien,...   4.99  Science Fiction   \n",
       "4  ['On The Case with Paula Zahn takes viewers on...  22.99         Suspense   \n",
       "\n",
       "   year  month  weekday  \n",
       "0  2016      9   Friday  \n",
       "1  2016     11  Tuesday  \n",
       "2  2022      8   Monday  \n",
       "3  2016      1   Monday  \n",
       "4  2018     12   Monday  "
      ]
     },
     "execution_count": 10,
     "metadata": {},
     "output_type": "execute_result"
    }
   ],
   "source": [
    "p_movies = pd.read_csv(\"cleaned_p_movies.csv\")\n",
    "p_movies.head()"
   ]
  },
  {
   "cell_type": "code",
   "execution_count": 11,
   "id": "88b9cf22",
   "metadata": {},
   "outputs": [
    {
     "name": "stdout",
     "output_type": "stream",
     "text": [
      "<class 'pandas.core.frame.DataFrame'>\n",
      "RangeIndex: 24112 entries, 0 to 24111\n",
      "Data columns (total 17 columns):\n",
      " #   Column             Non-Null Count  Dtype  \n",
      "---  ------             --------------  -----  \n",
      " 0   rating             24112 non-null  int64  \n",
      " 1   title_x            24112 non-null  object \n",
      " 2   text               24112 non-null  object \n",
      " 3   asin               24112 non-null  object \n",
      " 4   parent_asin        24112 non-null  object \n",
      " 5   timestamp          24112 non-null  object \n",
      " 6   verified_purchase  24112 non-null  bool   \n",
      " 7   main_category      24112 non-null  object \n",
      " 8   title_y            24112 non-null  object \n",
      " 9   average_rating     24112 non-null  float64\n",
      " 10  rating_number      24112 non-null  float64\n",
      " 11  description        24112 non-null  object \n",
      " 12  price              24112 non-null  float64\n",
      " 13  categories         24112 non-null  object \n",
      " 14  year               24112 non-null  int64  \n",
      " 15  month              24112 non-null  int64  \n",
      " 16  weekday            24112 non-null  object \n",
      "dtypes: bool(1), float64(3), int64(3), object(10)\n",
      "memory usage: 3.0+ MB\n"
     ]
    }
   ],
   "source": [
    "# Check dataset structure\n",
    "p_movies.info()"
   ]
  },
  {
   "cell_type": "code",
   "execution_count": 12,
   "id": "db01bcd8",
   "metadata": {},
   "outputs": [
    {
     "data": {
      "application/vnd.microsoft.datawrangler.viewer.v0+json": {
       "columns": [
        {
         "name": "index",
         "rawType": "object",
         "type": "string"
        },
        {
         "name": "rating",
         "rawType": "float64",
         "type": "float"
        },
        {
         "name": "title_x",
         "rawType": "object",
         "type": "unknown"
        },
        {
         "name": "text",
         "rawType": "object",
         "type": "unknown"
        },
        {
         "name": "asin",
         "rawType": "object",
         "type": "unknown"
        },
        {
         "name": "parent_asin",
         "rawType": "object",
         "type": "unknown"
        },
        {
         "name": "timestamp",
         "rawType": "object",
         "type": "unknown"
        },
        {
         "name": "verified_purchase",
         "rawType": "object",
         "type": "unknown"
        },
        {
         "name": "main_category",
         "rawType": "object",
         "type": "unknown"
        },
        {
         "name": "title_y",
         "rawType": "object",
         "type": "unknown"
        },
        {
         "name": "average_rating",
         "rawType": "float64",
         "type": "float"
        },
        {
         "name": "rating_number",
         "rawType": "float64",
         "type": "float"
        },
        {
         "name": "description",
         "rawType": "object",
         "type": "unknown"
        },
        {
         "name": "price",
         "rawType": "float64",
         "type": "float"
        },
        {
         "name": "categories",
         "rawType": "object",
         "type": "unknown"
        },
        {
         "name": "year",
         "rawType": "float64",
         "type": "float"
        },
        {
         "name": "month",
         "rawType": "float64",
         "type": "float"
        },
        {
         "name": "weekday",
         "rawType": "object",
         "type": "unknown"
        }
       ],
       "conversionMethod": "pd.DataFrame",
       "ref": "118d9717-163c-4bcc-a773-e97076add2aa",
       "rows": [
        [
         "count",
         "24112.0",
         "24112",
         "24112",
         "24112",
         "24112",
         "24112",
         "24112",
         "24112",
         "24112",
         "24112.0",
         "24112.0",
         "24112",
         "24112.0",
         "24112",
         "24112.0",
         "24112.0",
         "24112"
        ],
        [
         "unique",
         null,
         "14926",
         "21799",
         "6220",
         "6220",
         "24108",
         "2",
         "1",
         "5392",
         null,
         null,
         "5737",
         null,
         "29",
         null,
         null,
         "7"
        ],
        [
         "top",
         null,
         "Five Stars",
         "Great movie",
         "B07S3XZRM4",
         "B07S3XZRM4",
         "2016-02-28 02:41:52.000",
         "True",
         "Prime Video",
         "Aladdin",
         null,
         null,
         "['From Disney comes the thrilling and vibrant live-action adaptation of the animated classic Aladdin, the exciting tale of the charming street rat Aladdin, the courageous, self-determined Princess Jasmine and the Genie who may be the key to their future.']",
         null,
         "Comedy",
         null,
         null,
         "Monday"
        ],
        [
         "freq",
         null,
         "3059",
         "146",
         "265",
         "265",
         "2",
         "19839",
         "24112",
         "287",
         null,
         null,
         "287",
         null,
         "5839",
         null,
         null,
         "3676"
        ],
        [
         "mean",
         "4.121723623092236",
         null,
         null,
         null,
         null,
         null,
         null,
         null,
         null,
         "4.507004810882548",
         "13685.687873258128",
         null,
         "14.568819260119442",
         null,
         "2017.147685799602",
         "6.358825481088255",
         null
        ],
        [
         "std",
         "1.269626169529221",
         null,
         null,
         null,
         null,
         null,
         null,
         null,
         null,
         "0.35873517360715934",
         "21184.469922669374",
         null,
         "7.191598285353678",
         null,
         "2.602636550046798",
         "3.518187999187479",
         null
        ],
        [
         "min",
         "1.0",
         null,
         null,
         null,
         null,
         null,
         null,
         null,
         null,
         "1.9",
         "2.0",
         null,
         "0.0",
         null,
         "2009.0",
         "1.0",
         null
        ],
        [
         "25%",
         "4.0",
         null,
         null,
         null,
         null,
         null,
         null,
         null,
         null,
         "4.4",
         "990.0",
         null,
         "9.99",
         null,
         "2015.0",
         "3.0",
         null
        ],
        [
         "50%",
         "5.0",
         null,
         null,
         null,
         null,
         null,
         null,
         null,
         null,
         "4.6",
         "5021.5",
         null,
         "14.69",
         null,
         "2017.0",
         "6.0",
         null
        ],
        [
         "75%",
         "5.0",
         null,
         null,
         null,
         null,
         null,
         null,
         null,
         null,
         "4.7",
         "17750.0",
         null,
         "16.79",
         null,
         "2019.0",
         "9.0",
         null
        ],
        [
         "max",
         "5.0",
         null,
         null,
         null,
         null,
         null,
         null,
         null,
         null,
         "5.0",
         "193550.0",
         null,
         "124.99",
         null,
         "2023.0",
         "12.0",
         null
        ]
       ],
       "shape": {
        "columns": 17,
        "rows": 11
       }
      },
      "text/html": [
       "<div>\n",
       "<style scoped>\n",
       "    .dataframe tbody tr th:only-of-type {\n",
       "        vertical-align: middle;\n",
       "    }\n",
       "\n",
       "    .dataframe tbody tr th {\n",
       "        vertical-align: top;\n",
       "    }\n",
       "\n",
       "    .dataframe thead th {\n",
       "        text-align: right;\n",
       "    }\n",
       "</style>\n",
       "<table border=\"1\" class=\"dataframe\">\n",
       "  <thead>\n",
       "    <tr style=\"text-align: right;\">\n",
       "      <th></th>\n",
       "      <th>rating</th>\n",
       "      <th>title_x</th>\n",
       "      <th>text</th>\n",
       "      <th>asin</th>\n",
       "      <th>parent_asin</th>\n",
       "      <th>timestamp</th>\n",
       "      <th>verified_purchase</th>\n",
       "      <th>main_category</th>\n",
       "      <th>title_y</th>\n",
       "      <th>average_rating</th>\n",
       "      <th>rating_number</th>\n",
       "      <th>description</th>\n",
       "      <th>price</th>\n",
       "      <th>categories</th>\n",
       "      <th>year</th>\n",
       "      <th>month</th>\n",
       "      <th>weekday</th>\n",
       "    </tr>\n",
       "  </thead>\n",
       "  <tbody>\n",
       "    <tr>\n",
       "      <th>count</th>\n",
       "      <td>24112.000000</td>\n",
       "      <td>24112</td>\n",
       "      <td>24112</td>\n",
       "      <td>24112</td>\n",
       "      <td>24112</td>\n",
       "      <td>24112</td>\n",
       "      <td>24112</td>\n",
       "      <td>24112</td>\n",
       "      <td>24112</td>\n",
       "      <td>24112.000000</td>\n",
       "      <td>24112.000000</td>\n",
       "      <td>24112</td>\n",
       "      <td>24112.000000</td>\n",
       "      <td>24112</td>\n",
       "      <td>24112.000000</td>\n",
       "      <td>24112.000000</td>\n",
       "      <td>24112</td>\n",
       "    </tr>\n",
       "    <tr>\n",
       "      <th>unique</th>\n",
       "      <td>NaN</td>\n",
       "      <td>14926</td>\n",
       "      <td>21799</td>\n",
       "      <td>6220</td>\n",
       "      <td>6220</td>\n",
       "      <td>24108</td>\n",
       "      <td>2</td>\n",
       "      <td>1</td>\n",
       "      <td>5392</td>\n",
       "      <td>NaN</td>\n",
       "      <td>NaN</td>\n",
       "      <td>5737</td>\n",
       "      <td>NaN</td>\n",
       "      <td>29</td>\n",
       "      <td>NaN</td>\n",
       "      <td>NaN</td>\n",
       "      <td>7</td>\n",
       "    </tr>\n",
       "    <tr>\n",
       "      <th>top</th>\n",
       "      <td>NaN</td>\n",
       "      <td>Five Stars</td>\n",
       "      <td>Great movie</td>\n",
       "      <td>B07S3XZRM4</td>\n",
       "      <td>B07S3XZRM4</td>\n",
       "      <td>2016-02-28 02:41:52.000</td>\n",
       "      <td>True</td>\n",
       "      <td>Prime Video</td>\n",
       "      <td>Aladdin</td>\n",
       "      <td>NaN</td>\n",
       "      <td>NaN</td>\n",
       "      <td>['From Disney comes the thrilling and vibrant ...</td>\n",
       "      <td>NaN</td>\n",
       "      <td>Comedy</td>\n",
       "      <td>NaN</td>\n",
       "      <td>NaN</td>\n",
       "      <td>Monday</td>\n",
       "    </tr>\n",
       "    <tr>\n",
       "      <th>freq</th>\n",
       "      <td>NaN</td>\n",
       "      <td>3059</td>\n",
       "      <td>146</td>\n",
       "      <td>265</td>\n",
       "      <td>265</td>\n",
       "      <td>2</td>\n",
       "      <td>19839</td>\n",
       "      <td>24112</td>\n",
       "      <td>287</td>\n",
       "      <td>NaN</td>\n",
       "      <td>NaN</td>\n",
       "      <td>287</td>\n",
       "      <td>NaN</td>\n",
       "      <td>5839</td>\n",
       "      <td>NaN</td>\n",
       "      <td>NaN</td>\n",
       "      <td>3676</td>\n",
       "    </tr>\n",
       "    <tr>\n",
       "      <th>mean</th>\n",
       "      <td>4.121724</td>\n",
       "      <td>NaN</td>\n",
       "      <td>NaN</td>\n",
       "      <td>NaN</td>\n",
       "      <td>NaN</td>\n",
       "      <td>NaN</td>\n",
       "      <td>NaN</td>\n",
       "      <td>NaN</td>\n",
       "      <td>NaN</td>\n",
       "      <td>4.507005</td>\n",
       "      <td>13685.687873</td>\n",
       "      <td>NaN</td>\n",
       "      <td>14.568819</td>\n",
       "      <td>NaN</td>\n",
       "      <td>2017.147686</td>\n",
       "      <td>6.358825</td>\n",
       "      <td>NaN</td>\n",
       "    </tr>\n",
       "    <tr>\n",
       "      <th>std</th>\n",
       "      <td>1.269626</td>\n",
       "      <td>NaN</td>\n",
       "      <td>NaN</td>\n",
       "      <td>NaN</td>\n",
       "      <td>NaN</td>\n",
       "      <td>NaN</td>\n",
       "      <td>NaN</td>\n",
       "      <td>NaN</td>\n",
       "      <td>NaN</td>\n",
       "      <td>0.358735</td>\n",
       "      <td>21184.469923</td>\n",
       "      <td>NaN</td>\n",
       "      <td>7.191598</td>\n",
       "      <td>NaN</td>\n",
       "      <td>2.602637</td>\n",
       "      <td>3.518188</td>\n",
       "      <td>NaN</td>\n",
       "    </tr>\n",
       "    <tr>\n",
       "      <th>min</th>\n",
       "      <td>1.000000</td>\n",
       "      <td>NaN</td>\n",
       "      <td>NaN</td>\n",
       "      <td>NaN</td>\n",
       "      <td>NaN</td>\n",
       "      <td>NaN</td>\n",
       "      <td>NaN</td>\n",
       "      <td>NaN</td>\n",
       "      <td>NaN</td>\n",
       "      <td>1.900000</td>\n",
       "      <td>2.000000</td>\n",
       "      <td>NaN</td>\n",
       "      <td>0.000000</td>\n",
       "      <td>NaN</td>\n",
       "      <td>2009.000000</td>\n",
       "      <td>1.000000</td>\n",
       "      <td>NaN</td>\n",
       "    </tr>\n",
       "    <tr>\n",
       "      <th>25%</th>\n",
       "      <td>4.000000</td>\n",
       "      <td>NaN</td>\n",
       "      <td>NaN</td>\n",
       "      <td>NaN</td>\n",
       "      <td>NaN</td>\n",
       "      <td>NaN</td>\n",
       "      <td>NaN</td>\n",
       "      <td>NaN</td>\n",
       "      <td>NaN</td>\n",
       "      <td>4.400000</td>\n",
       "      <td>990.000000</td>\n",
       "      <td>NaN</td>\n",
       "      <td>9.990000</td>\n",
       "      <td>NaN</td>\n",
       "      <td>2015.000000</td>\n",
       "      <td>3.000000</td>\n",
       "      <td>NaN</td>\n",
       "    </tr>\n",
       "    <tr>\n",
       "      <th>50%</th>\n",
       "      <td>5.000000</td>\n",
       "      <td>NaN</td>\n",
       "      <td>NaN</td>\n",
       "      <td>NaN</td>\n",
       "      <td>NaN</td>\n",
       "      <td>NaN</td>\n",
       "      <td>NaN</td>\n",
       "      <td>NaN</td>\n",
       "      <td>NaN</td>\n",
       "      <td>4.600000</td>\n",
       "      <td>5021.500000</td>\n",
       "      <td>NaN</td>\n",
       "      <td>14.690000</td>\n",
       "      <td>NaN</td>\n",
       "      <td>2017.000000</td>\n",
       "      <td>6.000000</td>\n",
       "      <td>NaN</td>\n",
       "    </tr>\n",
       "    <tr>\n",
       "      <th>75%</th>\n",
       "      <td>5.000000</td>\n",
       "      <td>NaN</td>\n",
       "      <td>NaN</td>\n",
       "      <td>NaN</td>\n",
       "      <td>NaN</td>\n",
       "      <td>NaN</td>\n",
       "      <td>NaN</td>\n",
       "      <td>NaN</td>\n",
       "      <td>NaN</td>\n",
       "      <td>4.700000</td>\n",
       "      <td>17750.000000</td>\n",
       "      <td>NaN</td>\n",
       "      <td>16.790000</td>\n",
       "      <td>NaN</td>\n",
       "      <td>2019.000000</td>\n",
       "      <td>9.000000</td>\n",
       "      <td>NaN</td>\n",
       "    </tr>\n",
       "    <tr>\n",
       "      <th>max</th>\n",
       "      <td>5.000000</td>\n",
       "      <td>NaN</td>\n",
       "      <td>NaN</td>\n",
       "      <td>NaN</td>\n",
       "      <td>NaN</td>\n",
       "      <td>NaN</td>\n",
       "      <td>NaN</td>\n",
       "      <td>NaN</td>\n",
       "      <td>NaN</td>\n",
       "      <td>5.000000</td>\n",
       "      <td>193550.000000</td>\n",
       "      <td>NaN</td>\n",
       "      <td>124.990000</td>\n",
       "      <td>NaN</td>\n",
       "      <td>2023.000000</td>\n",
       "      <td>12.000000</td>\n",
       "      <td>NaN</td>\n",
       "    </tr>\n",
       "  </tbody>\n",
       "</table>\n",
       "</div>"
      ],
      "text/plain": [
       "              rating     title_x         text        asin parent_asin  \\\n",
       "count   24112.000000       24112        24112       24112       24112   \n",
       "unique           NaN       14926        21799        6220        6220   \n",
       "top              NaN  Five Stars  Great movie  B07S3XZRM4  B07S3XZRM4   \n",
       "freq             NaN        3059          146         265         265   \n",
       "mean        4.121724         NaN          NaN         NaN         NaN   \n",
       "std         1.269626         NaN          NaN         NaN         NaN   \n",
       "min         1.000000         NaN          NaN         NaN         NaN   \n",
       "25%         4.000000         NaN          NaN         NaN         NaN   \n",
       "50%         5.000000         NaN          NaN         NaN         NaN   \n",
       "75%         5.000000         NaN          NaN         NaN         NaN   \n",
       "max         5.000000         NaN          NaN         NaN         NaN   \n",
       "\n",
       "                      timestamp verified_purchase main_category  title_y  \\\n",
       "count                     24112             24112         24112    24112   \n",
       "unique                    24108                 2             1     5392   \n",
       "top     2016-02-28 02:41:52.000              True   Prime Video  Aladdin   \n",
       "freq                          2             19839         24112      287   \n",
       "mean                        NaN               NaN           NaN      NaN   \n",
       "std                         NaN               NaN           NaN      NaN   \n",
       "min                         NaN               NaN           NaN      NaN   \n",
       "25%                         NaN               NaN           NaN      NaN   \n",
       "50%                         NaN               NaN           NaN      NaN   \n",
       "75%                         NaN               NaN           NaN      NaN   \n",
       "max                         NaN               NaN           NaN      NaN   \n",
       "\n",
       "        average_rating  rating_number  \\\n",
       "count     24112.000000   24112.000000   \n",
       "unique             NaN            NaN   \n",
       "top                NaN            NaN   \n",
       "freq               NaN            NaN   \n",
       "mean          4.507005   13685.687873   \n",
       "std           0.358735   21184.469923   \n",
       "min           1.900000       2.000000   \n",
       "25%           4.400000     990.000000   \n",
       "50%           4.600000    5021.500000   \n",
       "75%           4.700000   17750.000000   \n",
       "max           5.000000  193550.000000   \n",
       "\n",
       "                                              description         price  \\\n",
       "count                                               24112  24112.000000   \n",
       "unique                                               5737           NaN   \n",
       "top     ['From Disney comes the thrilling and vibrant ...           NaN   \n",
       "freq                                                  287           NaN   \n",
       "mean                                                  NaN     14.568819   \n",
       "std                                                   NaN      7.191598   \n",
       "min                                                   NaN      0.000000   \n",
       "25%                                                   NaN      9.990000   \n",
       "50%                                                   NaN     14.690000   \n",
       "75%                                                   NaN     16.790000   \n",
       "max                                                   NaN    124.990000   \n",
       "\n",
       "       categories          year         month weekday  \n",
       "count       24112  24112.000000  24112.000000   24112  \n",
       "unique         29           NaN           NaN       7  \n",
       "top        Comedy           NaN           NaN  Monday  \n",
       "freq         5839           NaN           NaN    3676  \n",
       "mean          NaN   2017.147686      6.358825     NaN  \n",
       "std           NaN      2.602637      3.518188     NaN  \n",
       "min           NaN   2009.000000      1.000000     NaN  \n",
       "25%           NaN   2015.000000      3.000000     NaN  \n",
       "50%           NaN   2017.000000      6.000000     NaN  \n",
       "75%           NaN   2019.000000      9.000000     NaN  \n",
       "max           NaN   2023.000000     12.000000     NaN  "
      ]
     },
     "execution_count": 12,
     "metadata": {},
     "output_type": "execute_result"
    }
   ],
   "source": [
    "# Summary statistics (including categorical features)\n",
    "p_movies.describe(include='all')"
   ]
  },
  {
   "cell_type": "code",
   "execution_count": 13,
   "id": "12e234bb",
   "metadata": {},
   "outputs": [
    {
     "data": {
      "text/plain": [
       "rating               0\n",
       "title_x              0\n",
       "text                 0\n",
       "asin                 0\n",
       "parent_asin          0\n",
       "timestamp            0\n",
       "verified_purchase    0\n",
       "main_category        0\n",
       "title_y              0\n",
       "average_rating       0\n",
       "rating_number        0\n",
       "description          0\n",
       "price                0\n",
       "categories           0\n",
       "year                 0\n",
       "month                0\n",
       "weekday              0\n",
       "dtype: int64"
      ]
     },
     "execution_count": 13,
     "metadata": {},
     "output_type": "execute_result"
    }
   ],
   "source": [
    "# Check for missing values\n",
    "p_movies.isnull().sum()"
   ]
  },
  {
   "cell_type": "code",
   "execution_count": 14,
   "id": "e31c9249",
   "metadata": {},
   "outputs": [
    {
     "data": {
      "text/plain": [
       "0"
      ]
     },
     "execution_count": 14,
     "metadata": {},
     "output_type": "execute_result"
    }
   ],
   "source": [
    "# Check for duplicate rows\n",
    "p_movies.duplicated().sum()"
   ]
  },
  {
   "cell_type": "code",
   "execution_count": 20,
   "id": "e2a13b3f",
   "metadata": {},
   "outputs": [
    {
     "data": {
      "text/plain": [
       "Index(['rating', 'title_x', 'text', 'asin', 'parent_asin', 'timestamp',\n",
       "       'verified_purchase', 'main_category', 'title_y', 'average_rating',\n",
       "       'rating_number', 'description', 'price', 'categories', 'year', 'month',\n",
       "       'weekday'],\n",
       "      dtype='object')"
      ]
     },
     "execution_count": 20,
     "metadata": {},
     "output_type": "execute_result"
    }
   ],
   "source": [
    "p_movies.columns"
   ]
  },
  {
   "cell_type": "markdown",
   "id": "85239adf",
   "metadata": {},
   "source": [
    "## **1.2 Explore Text Data**"
   ]
  },
  {
   "cell_type": "code",
   "execution_count": 15,
   "id": "fa42cf16",
   "metadata": {},
   "outputs": [
    {
     "data": {
      "text/plain": [
       "text\n",
       ".    69347\n",
       ",    35728\n",
       "'    16313\n",
       "/    10550\n",
       "!    10371\n",
       "     ...  \n",
       "😱        1\n",
       "🎬        1\n",
       "🤢        1\n",
       "💘        1\n",
       "∞        1\n",
       "Name: count, Length: 115, dtype: int64"
      ]
     },
     "execution_count": 15,
     "metadata": {},
     "output_type": "execute_result"
    }
   ],
   "source": [
    "# View random text samples\n",
    "p_movies['text'].sample(10)\n",
    "\n",
    "# Check for special characters, emojis, HTML tags\n",
    "import re\n",
    "p_movies['text'].apply(lambda x: re.findall(r'[^\\w\\s]', str(x))).explode().value_counts()\n"
   ]
  },
  {
   "cell_type": "markdown",
   "id": "a11f0897",
   "metadata": {},
   "source": [
    "## **1.3 Check Class Distributions (if classification task)**"
   ]
  },
  {
   "cell_type": "code",
   "execution_count": 21,
   "id": "f4b5be7a",
   "metadata": {},
   "outputs": [
    {
     "name": "stdout",
     "output_type": "stream",
     "text": [
      "text\n",
      "Great movie                                                                                                                                                                                                                                                                                                                                                                                                                                                                                                                                                                                                                                                                                                                                                                                                                                                                                                                                                                                                                                                                                                                                                                                                                                                                                                                                                                                                                                                                                                                                             0.006055\n",
      "Good movie                                                                                                                                                                                                                                                                                                                                                                                                                                                                                                                                                                                                                                                                                                                                                                                                                                                                                                                                                                                                                                                                                                                                                                                                                                                                                                                                                                                                                                                                                                                                              0.004604\n",
      "Good                                                                                                                                                                                                                                                                                                                                                                                                                                                                                                                                                                                                                                                                                                                                                                                                                                                                                                                                                                                                                                                                                                                                                                                                                                                                                                                                                                                                                                                                                                                                                    0.003401\n",
      "Great                                                                                                                                                                                                                                                                                                                                                                                                                                                                                                                                                                                                                                                                                                                                                                                                                                                                                                                                                                                                                                                                                                                                                                                                                                                                                                                                                                                                                                                                                                                                                   0.003359\n",
      "Great movie!                                                                                                                                                                                                                                                                                                                                                                                                                                                                                                                                                                                                                                                                                                                                                                                                                                                                                                                                                                                                                                                                                                                                                                                                                                                                                                                                                                                                                                                                                                                                            0.002240\n",
      "                                                                                                                                                                                                                                                                                                                                                                                                                                                                                                                                                                                                                                                                                                                                                                                                                                                                                                                                                                                                                                                                                                                                                                                                                                                                                                                                                                                                                                                                                                                                                          ...   \n",
      "This movie will just leave you feeling sad. It is a good movie and a nice telling of true events but there is just a sad feeling to it, and that is the way it should be. Life in SE KY is still very much like this for a lot of people. The drug problem is still here and trapping people into years of drug addiction,crime and death. This is a very true to life drama movie and if you don't like the reality of these types of films, you probably just shouldn't watch it.  I think the film accomplishes exactly what it set out to do.                                                                                                                                                                                                                                                                                                                                                                                                                                                                                                                                                                                                                                                                                                                                                                                                                                                                                                                                                                                                       0.000041\n",
      "Well I didn't really know what to expect from this but I figured it would be rather gory and bloody....and it was once it got going. Kind of a slow start setting up the story...very predictable for the most part. But if you like gore and cannibalism then this is the film for you. Overall not a bad watch if you can make it past the slow start.                                                                                                                                                                                                                                                                                                                                                                                                                                                                                                                                                                                                                                                                                                                                                                                                                                                                                                                                                                                                                                                                                                                                                                                                0.000041\n",
      "This film starts out very good and is a pleasant romantic comedy....which we like...then it turns into a tear jerking drama that is very sad. I would have preferred a more upbeat ending. The film is a great watch, at least for us, about 3/4 of the way through...then it just gets too sad.                                                                                                                                                                                                                                                                                                                                                                                                                                                                                                                                                                                                                                                                                                                                                                                                                                                                                                                                                                                                                                                                                                                                                                                                                                                        0.000041\n",
      "If you like action movies and some great fight scenes this will fit the bill perfectly. I recently watch all three Wick films and can't believe I waited so long to watch them ...they are fun films with a lot of action.                                                                                                                                                                                                                                                                                                                                                                                                                                                                                                                                                                                                                                                                                                                                                                                                                                                                                                                                                                                                                                                                                                                                                                                                                                                                                                                              0.000041\n",
      "Man, I was super excited for this when it was first announced. I love slashers, I love Christmas, and I love Christmas slashers. Blumhouse did so well with 'Halloween' I could only imagine how epic Black Christmas would've been. Boy, did they mess this up! I heard it was going to be bad, because it was slapped with a PG13 rating and I knew it had a feminist agenda, but this movie was stereotypically feminist to the point where they are practically shoving it down your throat. They took away Billy, the original killer and replaced him with a cult of college boys who are misogynistic and under a spell due to some black sludge coming out of a statue of the founder of their college. I'm dead serious!<br /><br />Our hero is Riley, a sorority woman who was sexually attacked by the AKO fraternity president Brian Huntley. She and her sorority sisters enter a singing contest that mocks the fraternity. Soon after, they all start getting harassed and threatening texts. Some of the girls start to go missing, and that's when the cult of he-man woman haters start attacking. It's up to Riley and her gang of strong independent women to fight back. This movie was not made with a good story or to be scary, it's just made to appease the Feminazi's, and that's just sad. I'm sure I'll watch this again someday, but just do yourself a favor and watch the original classic instead. This re-remake makes the 2006 version look like 'The Godfather Part II' I would not recommend BLACK CHRISTMAS!!!    0.000041\n",
      "Name: proportion, Length: 21799, dtype: float64\n"
     ]
    }
   ],
   "source": [
    "# If there is a categorical label column\n",
    "if 'text' in p_movies.columns:\n",
    "    print(p_movies['text'].value_counts(normalize=True))  # Check class balance"
   ]
  },
  {
   "cell_type": "markdown",
   "id": "8b658c4e",
   "metadata": {},
   "source": [
    "## **2. Data Cleaning & Preprocessing**"
   ]
  },
  {
   "cell_type": "markdown",
   "id": "c3e58d82",
   "metadata": {},
   "source": [
    "### **2.1 Text Normalization**"
   ]
  },
  {
   "cell_type": "code",
   "execution_count": 24,
   "id": "ef66b292",
   "metadata": {},
   "outputs": [
    {
     "name": "stderr",
     "output_type": "stream",
     "text": [
      "[nltk_data] Downloading package stopwords to C:\\Users\\Edwin\n",
      "[nltk_data]     George\\AppData\\Roaming\\nltk_data...\n",
      "[nltk_data]   Package stopwords is already up-to-date!\n",
      "[nltk_data] Downloading package punkt to C:\\Users\\Edwin\n",
      "[nltk_data]     George\\AppData\\Roaming\\nltk_data...\n",
      "[nltk_data]   Package punkt is already up-to-date!\n",
      "[nltk_data] Downloading package wordnet to C:\\Users\\Edwin\n",
      "[nltk_data]     George\\AppData\\Roaming\\nltk_data...\n",
      "[nltk_data]   Package wordnet is already up-to-date!\n"
     ]
    },
    {
     "data": {
      "application/vnd.microsoft.datawrangler.viewer.v0+json": {
       "columns": [
        {
         "name": "index",
         "rawType": "int64",
         "type": "integer"
        },
        {
         "name": "rating",
         "rawType": "int64",
         "type": "integer"
        },
        {
         "name": "title_x",
         "rawType": "object",
         "type": "string"
        },
        {
         "name": "text",
         "rawType": "object",
         "type": "string"
        },
        {
         "name": "asin",
         "rawType": "object",
         "type": "string"
        },
        {
         "name": "parent_asin",
         "rawType": "object",
         "type": "string"
        },
        {
         "name": "timestamp",
         "rawType": "object",
         "type": "string"
        },
        {
         "name": "verified_purchase",
         "rawType": "bool",
         "type": "boolean"
        },
        {
         "name": "main_category",
         "rawType": "object",
         "type": "string"
        },
        {
         "name": "title_y",
         "rawType": "object",
         "type": "string"
        },
        {
         "name": "average_rating",
         "rawType": "float64",
         "type": "float"
        },
        {
         "name": "rating_number",
         "rawType": "float64",
         "type": "float"
        },
        {
         "name": "description",
         "rawType": "object",
         "type": "string"
        },
        {
         "name": "price",
         "rawType": "float64",
         "type": "float"
        },
        {
         "name": "categories",
         "rawType": "object",
         "type": "string"
        },
        {
         "name": "year",
         "rawType": "int64",
         "type": "integer"
        },
        {
         "name": "month",
         "rawType": "int64",
         "type": "integer"
        },
        {
         "name": "weekday",
         "rawType": "object",
         "type": "string"
        }
       ],
       "conversionMethod": "pd.DataFrame",
       "ref": "034b6cc2-e28f-41b6-8340-8d2bc68395fc",
       "rows": [
        [
         "0",
         "4",
         "Four Stars",
         "pretty good pretty comical scene throughout great chick flick",
         "B01KBKKU7G",
         "B01KBKKU7G",
         "2016-09-16 18:39:49.000",
         "True",
         "Prime Video",
         "Seven Girlfriends",
         "3.2",
         "333.0",
         "[\"Jesse  has never had a problem finding a girlfriend. It's maintaining the relationship that's his issue. When an ex-girlfriend of his dies, Jesse impulsively asks his most recent fling, Hannah, to marry him -- a proposal she quickly turns down. Left confused by the rejection and his dating history, Jesse decides to seek out his former loves for answers on why the relationships ended.\"]",
         "12.99",
         "Comedy",
         "2016",
         "9",
         "Friday"
        ],
        [
         "1",
         "3",
         "Ok love story",
         "bit slow unsatisfying ending",
         "B01M0S0C8M",
         "B01M0S0C8M",
         "2016-11-08 22:14:17.000",
         "True",
         "Prime Video",
         "Still Mine",
         "4.6",
         "4744.0",
         "[\"James Cromwell gives a tour de force performance in 'Still Mine,' a deeply moving love story about a couple in their twilight years. When Craig sets out to build a more suitable house for his ailing wife Irene, he is blindsided by the bureaucratic codes and officials. As Irene becomes increasingly ill, Craig takes a final stance against all odds to finish the house, in a truly inspirational story.\"]",
         "9.99",
         "Drama",
         "2016",
         "11",
         "Tuesday"
        ],
        [
         "2",
         "1",
         "TRASH",
         "movie based solely incest storyline garbage actor terrible",
         "B00G2TAAVM",
         "B00G2TAAVM",
         "2022-08-22 20:06:25.847",
         "True",
         "Prime Video",
         "How I Live Now",
         "4.3",
         "907.0",
         "['Set in the near-future UK, Saoirse Ronan plays Daisy, an American teenager sent to stay with relatives in the English countryside. Initially withdrawn and alienated, she begins to warm up to her charming surroundings and strikes up a romance with the handsome Edmund (George MacKay). But on the fringes of their idyllic summer days are tense news reports of an escalating conflict in Europe. As the UK falls into a violent, chaotic military state, Daisy finds herself hiding and fighting to survive.']",
         "12.99",
         "International",
         "2022",
         "8",
         "Monday"
        ],
        [
         "3",
         "5",
         "Five Stars",
         "excellent",
         "B018HJ03UC",
         "B018HJ03UC",
         "2016-01-25 18:47:06.000",
         "True",
         "Prime Video",
         "The Martian",
         "4.8",
         "45859.0",
         "['From legendary director Ridley Scott (Alien, Prometheus) comes a gripping tale of human strength and the will to survive, starring Matt Damon as an astronaut stranded on Mars.']",
         "4.99",
         "Science Fiction",
         "2016",
         "1",
         "Monday"
        ],
        [
         "4",
         "2",
         "Not what it used to be",
         "used favorite mine ’ enjoy anymore way zahn lead interviewee question hard watch feel edited feel like dumbed something ’ ask investigator question could one answer question usually question ’ add anything story line feel series run course longer different enough fresh enough keep people intrigued",
         "B07FLP19K1",
         "B07FLP19K1",
         "2018-12-03 16:52:02.089",
         "True",
         "Prime Video",
         "On The Case with Paula Zahn",
         "4.6",
         "141.0",
         "['On The Case with Paula Zahn takes viewers on an exciting journey inside the most fascinating crime and mystery investigations. First person accounts, along with insight from experts are featured as each case reaches its dramatic conclusion.']",
         "22.99",
         "Suspense",
         "2018",
         "12",
         "Monday"
        ]
       ],
       "shape": {
        "columns": 17,
        "rows": 5
       }
      },
      "text/html": [
       "<div>\n",
       "<style scoped>\n",
       "    .dataframe tbody tr th:only-of-type {\n",
       "        vertical-align: middle;\n",
       "    }\n",
       "\n",
       "    .dataframe tbody tr th {\n",
       "        vertical-align: top;\n",
       "    }\n",
       "\n",
       "    .dataframe thead th {\n",
       "        text-align: right;\n",
       "    }\n",
       "</style>\n",
       "<table border=\"1\" class=\"dataframe\">\n",
       "  <thead>\n",
       "    <tr style=\"text-align: right;\">\n",
       "      <th></th>\n",
       "      <th>rating</th>\n",
       "      <th>title_x</th>\n",
       "      <th>text</th>\n",
       "      <th>asin</th>\n",
       "      <th>parent_asin</th>\n",
       "      <th>timestamp</th>\n",
       "      <th>verified_purchase</th>\n",
       "      <th>main_category</th>\n",
       "      <th>title_y</th>\n",
       "      <th>average_rating</th>\n",
       "      <th>rating_number</th>\n",
       "      <th>description</th>\n",
       "      <th>price</th>\n",
       "      <th>categories</th>\n",
       "      <th>year</th>\n",
       "      <th>month</th>\n",
       "      <th>weekday</th>\n",
       "    </tr>\n",
       "  </thead>\n",
       "  <tbody>\n",
       "    <tr>\n",
       "      <th>0</th>\n",
       "      <td>4</td>\n",
       "      <td>Four Stars</td>\n",
       "      <td>pretty good pretty comical scene throughout gr...</td>\n",
       "      <td>B01KBKKU7G</td>\n",
       "      <td>B01KBKKU7G</td>\n",
       "      <td>2016-09-16 18:39:49.000</td>\n",
       "      <td>True</td>\n",
       "      <td>Prime Video</td>\n",
       "      <td>Seven Girlfriends</td>\n",
       "      <td>3.2</td>\n",
       "      <td>333.0</td>\n",
       "      <td>[\"Jesse  has never had a problem finding a gir...</td>\n",
       "      <td>12.99</td>\n",
       "      <td>Comedy</td>\n",
       "      <td>2016</td>\n",
       "      <td>9</td>\n",
       "      <td>Friday</td>\n",
       "    </tr>\n",
       "    <tr>\n",
       "      <th>1</th>\n",
       "      <td>3</td>\n",
       "      <td>Ok love story</td>\n",
       "      <td>bit slow unsatisfying ending</td>\n",
       "      <td>B01M0S0C8M</td>\n",
       "      <td>B01M0S0C8M</td>\n",
       "      <td>2016-11-08 22:14:17.000</td>\n",
       "      <td>True</td>\n",
       "      <td>Prime Video</td>\n",
       "      <td>Still Mine</td>\n",
       "      <td>4.6</td>\n",
       "      <td>4744.0</td>\n",
       "      <td>[\"James Cromwell gives a tour de force perform...</td>\n",
       "      <td>9.99</td>\n",
       "      <td>Drama</td>\n",
       "      <td>2016</td>\n",
       "      <td>11</td>\n",
       "      <td>Tuesday</td>\n",
       "    </tr>\n",
       "    <tr>\n",
       "      <th>2</th>\n",
       "      <td>1</td>\n",
       "      <td>TRASH</td>\n",
       "      <td>movie based solely incest storyline garbage ac...</td>\n",
       "      <td>B00G2TAAVM</td>\n",
       "      <td>B00G2TAAVM</td>\n",
       "      <td>2022-08-22 20:06:25.847</td>\n",
       "      <td>True</td>\n",
       "      <td>Prime Video</td>\n",
       "      <td>How I Live Now</td>\n",
       "      <td>4.3</td>\n",
       "      <td>907.0</td>\n",
       "      <td>['Set in the near-future UK, Saoirse Ronan pla...</td>\n",
       "      <td>12.99</td>\n",
       "      <td>International</td>\n",
       "      <td>2022</td>\n",
       "      <td>8</td>\n",
       "      <td>Monday</td>\n",
       "    </tr>\n",
       "    <tr>\n",
       "      <th>3</th>\n",
       "      <td>5</td>\n",
       "      <td>Five Stars</td>\n",
       "      <td>excellent</td>\n",
       "      <td>B018HJ03UC</td>\n",
       "      <td>B018HJ03UC</td>\n",
       "      <td>2016-01-25 18:47:06.000</td>\n",
       "      <td>True</td>\n",
       "      <td>Prime Video</td>\n",
       "      <td>The Martian</td>\n",
       "      <td>4.8</td>\n",
       "      <td>45859.0</td>\n",
       "      <td>['From legendary director Ridley Scott (Alien,...</td>\n",
       "      <td>4.99</td>\n",
       "      <td>Science Fiction</td>\n",
       "      <td>2016</td>\n",
       "      <td>1</td>\n",
       "      <td>Monday</td>\n",
       "    </tr>\n",
       "    <tr>\n",
       "      <th>4</th>\n",
       "      <td>2</td>\n",
       "      <td>Not what it used to be</td>\n",
       "      <td>used favorite mine ’ enjoy anymore way zahn le...</td>\n",
       "      <td>B07FLP19K1</td>\n",
       "      <td>B07FLP19K1</td>\n",
       "      <td>2018-12-03 16:52:02.089</td>\n",
       "      <td>True</td>\n",
       "      <td>Prime Video</td>\n",
       "      <td>On The Case with Paula Zahn</td>\n",
       "      <td>4.6</td>\n",
       "      <td>141.0</td>\n",
       "      <td>['On The Case with Paula Zahn takes viewers on...</td>\n",
       "      <td>22.99</td>\n",
       "      <td>Suspense</td>\n",
       "      <td>2018</td>\n",
       "      <td>12</td>\n",
       "      <td>Monday</td>\n",
       "    </tr>\n",
       "  </tbody>\n",
       "</table>\n",
       "</div>"
      ],
      "text/plain": [
       "   rating                 title_x  \\\n",
       "0       4              Four Stars   \n",
       "1       3           Ok love story   \n",
       "2       1                   TRASH   \n",
       "3       5              Five Stars   \n",
       "4       2  Not what it used to be   \n",
       "\n",
       "                                                text        asin parent_asin  \\\n",
       "0  pretty good pretty comical scene throughout gr...  B01KBKKU7G  B01KBKKU7G   \n",
       "1                       bit slow unsatisfying ending  B01M0S0C8M  B01M0S0C8M   \n",
       "2  movie based solely incest storyline garbage ac...  B00G2TAAVM  B00G2TAAVM   \n",
       "3                                          excellent  B018HJ03UC  B018HJ03UC   \n",
       "4  used favorite mine ’ enjoy anymore way zahn le...  B07FLP19K1  B07FLP19K1   \n",
       "\n",
       "                 timestamp  verified_purchase main_category  \\\n",
       "0  2016-09-16 18:39:49.000               True   Prime Video   \n",
       "1  2016-11-08 22:14:17.000               True   Prime Video   \n",
       "2  2022-08-22 20:06:25.847               True   Prime Video   \n",
       "3  2016-01-25 18:47:06.000               True   Prime Video   \n",
       "4  2018-12-03 16:52:02.089               True   Prime Video   \n",
       "\n",
       "                       title_y  average_rating  rating_number  \\\n",
       "0            Seven Girlfriends             3.2          333.0   \n",
       "1                   Still Mine             4.6         4744.0   \n",
       "2               How I Live Now             4.3          907.0   \n",
       "3                  The Martian             4.8        45859.0   \n",
       "4  On The Case with Paula Zahn             4.6          141.0   \n",
       "\n",
       "                                         description  price       categories  \\\n",
       "0  [\"Jesse  has never had a problem finding a gir...  12.99           Comedy   \n",
       "1  [\"James Cromwell gives a tour de force perform...   9.99            Drama   \n",
       "2  ['Set in the near-future UK, Saoirse Ronan pla...  12.99    International   \n",
       "3  ['From legendary director Ridley Scott (Alien,...   4.99  Science Fiction   \n",
       "4  ['On The Case with Paula Zahn takes viewers on...  22.99         Suspense   \n",
       "\n",
       "   year  month  weekday  \n",
       "0  2016      9   Friday  \n",
       "1  2016     11  Tuesday  \n",
       "2  2022      8   Monday  \n",
       "3  2016      1   Monday  \n",
       "4  2018     12   Monday  "
      ]
     },
     "execution_count": 24,
     "metadata": {},
     "output_type": "execute_result"
    }
   ],
   "source": [
    "# import nltk\n",
    "# import string\n",
    "# import re\n",
    "# from nltk.corpus import stopwords\n",
    "# from nltk.tokenize import word_tokenize\n",
    "# from nltk.stem import WordNetLemmatizer, PorterStemmer\n",
    "\n",
    "# Download necessary NLTK resources\n",
    "nltk.download('stopwords')\n",
    "nltk.download('punkt')\n",
    "nltk.download('wordnet')\n",
    "\n",
    "stop_words = set(stopwords.words('english'))\n",
    "lemmatizer = WordNetLemmatizer()\n",
    "\n",
    "# Define a function to clean text\n",
    "def clean_text(text):\n",
    "    if isinstance(text, str):  # Ensure text is a string\n",
    "        text = text.lower()  # Convert to lowercase\n",
    "        text = re.sub(r'\\d+', '', text)  # Remove numbers\n",
    "        text = text.translate(str.maketrans('', '', string.punctuation))  # Remove punctuation\n",
    "        tokens = word_tokenize(text)  # Tokenize text\n",
    "        tokens = [word for word in tokens if word not in stop_words]  # Remove stopwords\n",
    "        tokens = [lemmatizer.lemmatize(word) for word in tokens]  # Lemmatization\n",
    "        return ' '.join(tokens)\n",
    "    return text  # Return unchanged if not a string\n",
    "\n",
    "# Apply cleaning function to 'text' column\n",
    "p_movies['text'] = p_movies['text'].apply(clean_text)\n",
    "p_movies.head()"
   ]
  },
  {
   "cell_type": "markdown",
   "id": "aab2cd2b",
   "metadata": {},
   "source": [
    "### **2.2 Handle Categorical Features**"
   ]
  },
  {
   "cell_type": "code",
   "execution_count": 25,
   "id": "ecd0dc28",
   "metadata": {},
   "outputs": [],
   "source": [
    "# from sklearn.preprocessing import LabelEncoder\n",
    "\n",
    "# # Encode categorical columns (if needed)\n",
    "# categorical_cols = ['verified_purchase', 'main_category']\n",
    "# label_encoders = {}\n",
    "\n",
    "# for col in categorical_cols:\n",
    "#     le = LabelEncoder()\n",
    "#     p_movies[col] = le.fit_transform(p_movies[col].astype(str))\n",
    "#     label_encoders[col] = le  # Store encoder for inverse transform if needed\n"
   ]
  },
  {
   "cell_type": "markdown",
   "id": "0f02a559",
   "metadata": {},
   "source": [
    "# **3. Exploratory Data Analysis (EDA) & Visualizations**"
   ]
  },
  {
   "cell_type": "markdown",
   "id": "948b1245",
   "metadata": {},
   "source": [
    "### **3.1 Distribution of Ratings**"
   ]
  },
  {
   "cell_type": "code",
   "execution_count": 26,
   "id": "b88ce9b4",
   "metadata": {},
   "outputs": [
    {
     "data": {
      "image/png": "[encoded data removed]",
      "text/plain": [
       "<Figure size 800x500 with 1 Axes>"
      ]
     },
     "metadata": {},
     "output_type": "display_data"
    }
   ],
   "source": [
    "# Plot distribution of ratings\n",
    "plt.figure(figsize=(8, 5))\n",
    "sns.countplot(x='rating', data=p_movies, palette='viridis')\n",
    "plt.title('Distribution of Ratings')\n",
    "plt.xlabel('Rating')\n",
    "plt.ylabel('Count')\n",
    "plt.show()"
   ]
  },
  {
   "cell_type": "markdown",
   "id": "b43666e7",
   "metadata": {},
   "source": [
    "### **3.2 Time-Based Trends (Reviews Over Time)**"
   ]
  },
  {
   "cell_type": "code",
   "execution_count": 27,
   "id": "2df59c16",
   "metadata": {},
   "outputs": [
    {
     "data": {
      "image/png": "[encoded data removed]",
      "text/plain": [
       "<Figure size 1000x500 with 1 Axes>"
      ]
     },
     "metadata": {},
     "output_type": "display_data"
    }
   ],
   "source": [
    "# Reviews per year\n",
    "plt.figure(figsize=(10, 5))\n",
    "sns.lineplot(x='year', y='rating_number', data=p_movies, estimator='sum', marker='o')\n",
    "plt.title('Review Counts Over the Years')\n",
    "plt.xlabel('Year')\n",
    "plt.ylabel('Number of Reviews')\n",
    "plt.show()\n"
   ]
  },
  {
   "cell_type": "code",
   "execution_count": 29,
   "id": "0b057b54",
   "metadata": {},
   "outputs": [
    {
     "data": {
      "image/png": "[encoded data removed]",
      "text/plain": [
       "<Figure size 800x500 with 1 Axes>"
      ]
     },
     "metadata": {},
     "output_type": "display_data"
    }
   ],
   "source": [
    "# Reviews by weekday\n",
    "plt.figure(figsize=(8, 5))\n",
    "sns.countplot(x='weekday', data=p_movies, palette='coolwarm')\n",
    "plt.title('Reviews by Day of the Week')\n",
    "plt.xlabel('Weekday')\n",
    "plt.ylabel('Count')\n",
    "plt.show()\n"
   ]
  },
  {
   "cell_type": "markdown",
   "id": "8c309142",
   "metadata": {},
   "source": [
    "### **3.3 Price vs. Average Rating Analysis**"
   ]
  },
  {
   "cell_type": "code",
   "execution_count": 30,
   "id": "67c1b642",
   "metadata": {},
   "outputs": [
    {
     "data": {
      "image/png": "[encoded data removed]",
      "text/plain": [
       "<Figure size 800x500 with 1 Axes>"
      ]
     },
     "metadata": {},
     "output_type": "display_data"
    }
   ],
   "source": [
    "# Convert price column to numeric (handle missing values first)\n",
    "p_movies['price'] = pd.to_numeric(p_movies['price'], errors='coerce')\n",
    "\n",
    "# Scatter plot of price vs. average rating\n",
    "plt.figure(figsize=(8, 5))\n",
    "sns.scatterplot(x='price', y='average_rating', data=p_movies, alpha=0.5)\n",
    "plt.title('Price vs. Average Rating')\n",
    "plt.xlabel('Price')\n",
    "plt.ylabel('Average Rating')\n",
    "plt.show()\n"
   ]
  },
  {
   "cell_type": "markdown",
   "id": "219fc2a3",
   "metadata": {},
   "source": [
    "### **3.4 Correlation Heatmap (Numerical Features Only)**"
   ]
  },
  {
   "cell_type": "code",
   "execution_count": 32,
   "id": "2d7bd73c",
   "metadata": {},
   "outputs": [
    {
     "data": {
      "image/png": "[encoded data removed]",
      "text/plain": [
       "<Figure size 800x600 with 2 Axes>"
      ]
     },
     "metadata": {},
     "output_type": "display_data"
    }
   ],
   "source": [
    "# Convert rating_number to numeric if necessary\n",
    "p_movies['rating_number'] = pd.to_numeric(p_movies['rating_number'], errors='coerce')\n",
    "\n",
    "# Compute correlation\n",
    "numeric_cols = ['rating', 'rating_number', 'average_rating', 'price', 'year', 'month']\n",
    "corr_matrix = p_movies[numeric_cols].corr()\n",
    "\n",
    "# Heatmap visualization\n",
    "plt.figure(figsize=(8, 6))\n",
    "sns.heatmap(corr_matrix, annot=True, cmap='coolwarm', linewidths=0.5)\n",
    "plt.title('Correlation Heatmap')\n",
    "plt.show()\n"
   ]
  },
  {
   "cell_type": "markdown",
   "id": "81f04fc9",
   "metadata": {},
   "source": [
    "### **3.5 Most Common Categories**"
   ]
  },
  {
   "cell_type": "code",
   "execution_count": 34,
   "id": "770a7328",
   "metadata": {},
   "outputs": [
    {
     "data": {
      "image/png": "[encoded data removed]",
      "text/plain": [
       "<Figure size 1000x500 with 1 Axes>"
      ]
     },
     "metadata": {},
     "output_type": "display_data"
    }
   ],
   "source": [
    "# Countplot for top categories\n",
    "plt.figure(figsize=(10, 5))\n",
    "sns.barplot(x=p_movies['categories'].value_counts().index[:10], \n",
    "            y=p_movies['categories'].value_counts().values[:10], \n",
    "            palette='magma')\n",
    "plt.xticks(rotation=45)\n",
    "plt.title('Top 10 Most Common Categories')\n",
    "plt.xlabel('Category')\n",
    "plt.ylabel('Count')\n",
    "plt.show()\n"
   ]
  },
  {
   "cell_type": "code",
   "execution_count": null,
   "id": "10473700",
   "metadata": {},
   "outputs": [],
   "source": []
  }
 ],
 "metadata": {
  "kernelspec": {
   "display_name": "myenv",
   "language": "python",
   "name": "python3"
  },
  "language_info": {
   "codemirror_mode": {
    "name": "ipython",
    "version": 3
   },
   "file_extension": ".py",
   "mimetype": "text/x-python",
   "name": "python",
   "nbconvert_exporter": "python",
   "pygments_lexer": "ipython3",
   "version": "3.9.21"
  }
 },
 "nbformat": 4,
 "nbformat_minor": 5
}
